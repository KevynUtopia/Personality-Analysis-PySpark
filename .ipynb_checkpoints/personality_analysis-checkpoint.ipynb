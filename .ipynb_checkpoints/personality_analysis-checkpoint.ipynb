{
 "cells": [
  {
   "cell_type": "markdown",
   "metadata": {
    "application/vnd.databricks.v1+cell": {
     "inputWidgets": {},
     "nuid": "69d1b7a6-ff1e-4b3d-be58-95c86bca1b40",
     "showTitle": false,
     "title": ""
    }
   },
   "source": [
    "md\n",
    "## Part 1: Go through teh dataset"
   ]
  },
  {
   "cell_type": "code",
   "execution_count": 0,
   "metadata": {
    "application/vnd.databricks.v1+cell": {
     "inputWidgets": {},
     "nuid": "b622dff3-9b9c-4473-a17d-a6ac39edc0f1",
     "showTitle": false,
     "title": ""
    }
   },
   "outputs": [
    {
     "data": {
      "text/html": [
       "<style scoped>\n",
       "  .ansiout {\n",
       "    display: block;\n",
       "    unicode-bidi: embed;\n",
       "    white-space: pre-wrap;\n",
       "    word-wrap: break-word;\n",
       "    word-break: break-all;\n",
       "    font-family: \"Source Code Pro\", \"Menlo\", monospace;;\n",
       "    font-size: 13px;\n",
       "    color: #555;\n",
       "    margin-left: 4px;\n",
       "    line-height: 19px;\n",
       "  }\n",
       "</style>\n",
       "<div class=\"ansiout\"></div>"
      ]
     },
     "metadata": {
      "application/vnd.databricks.v1+output": {
       "addedWidgets": {},
       "arguments": {},
       "data": "<div class=\"ansiout\"></div>",
       "datasetInfos": [],
       "removedWidgets": [],
       "type": "html"
      }
     },
     "output_type": "display_data"
    }
   ],
   "source": [
    "# Load data\n",
    "file_location = \"/FileStore/tables/data_final-1.csv\"\n",
    "df = spark.read.load(file_location, format=\"csv\", sep=\"\\t\", inferSchema=\"true\", header=\"true\")\n"
   ]
  },
  {
   "cell_type": "code",
   "execution_count": 0,
   "metadata": {
    "application/vnd.databricks.v1+cell": {
     "inputWidgets": {},
     "nuid": "00206c43-3822-4236-afdf-42930bbec917",
     "showTitle": false,
     "title": ""
    }
   },
   "outputs": [
    {
     "data": {
      "text/html": [
       "<style scoped>\n",
       "  .ansiout {\n",
       "    display: block;\n",
       "    unicode-bidi: embed;\n",
       "    white-space: pre-wrap;\n",
       "    word-wrap: break-word;\n",
       "    word-break: break-all;\n",
       "    font-family: \"Source Code Pro\", \"Menlo\", monospace;;\n",
       "    font-size: 13px;\n",
       "    color: #555;\n",
       "    margin-left: 4px;\n",
       "    line-height: 19px;\n",
       "  }\n",
       "</style>\n",
       "<div class=\"ansiout\">root\n",
       "-- EXT1: string (nullable = true)\n",
       "-- EXT2: string (nullable = true)\n",
       "-- EXT3: string (nullable = true)\n",
       "-- EXT4: string (nullable = true)\n",
       "-- EXT5: string (nullable = true)\n",
       "-- EXT6: string (nullable = true)\n",
       "-- EXT7: string (nullable = true)\n",
       "-- EXT8: string (nullable = true)\n",
       "-- EXT9: string (nullable = true)\n",
       "-- EXT10: string (nullable = true)\n",
       "-- EST1: string (nullable = true)\n",
       "-- EST2: string (nullable = true)\n",
       "-- EST3: string (nullable = true)\n",
       "-- EST4: string (nullable = true)\n",
       "-- EST5: string (nullable = true)\n",
       "-- EST6: string (nullable = true)\n",
       "-- EST7: string (nullable = true)\n",
       "-- EST8: string (nullable = true)\n",
       "-- EST9: string (nullable = true)\n",
       "-- EST10: string (nullable = true)\n",
       "-- AGR1: string (nullable = true)\n",
       "-- AGR2: string (nullable = true)\n",
       "-- AGR3: string (nullable = true)\n",
       "-- AGR4: string (nullable = true)\n",
       "-- AGR5: string (nullable = true)\n",
       "-- AGR6: string (nullable = true)\n",
       "-- AGR7: string (nullable = true)\n",
       "-- AGR8: string (nullable = true)\n",
       "-- AGR9: string (nullable = true)\n",
       "-- AGR10: string (nullable = true)\n",
       "-- CSN1: string (nullable = true)\n",
       "-- CSN2: string (nullable = true)\n",
       "-- CSN3: string (nullable = true)\n",
       "-- CSN4: string (nullable = true)\n",
       "-- CSN5: string (nullable = true)\n",
       "-- CSN6: string (nullable = true)\n",
       "-- CSN7: string (nullable = true)\n",
       "-- CSN8: string (nullable = true)\n",
       "-- CSN9: string (nullable = true)\n",
       "-- CSN10: string (nullable = true)\n",
       "-- OPN1: string (nullable = true)\n",
       "-- OPN2: string (nullable = true)\n",
       "-- OPN3: string (nullable = true)\n",
       "-- OPN4: string (nullable = true)\n",
       "-- OPN5: string (nullable = true)\n",
       "-- OPN6: string (nullable = true)\n",
       "-- OPN7: string (nullable = true)\n",
       "-- OPN8: string (nullable = true)\n",
       "-- OPN9: string (nullable = true)\n",
       "-- OPN10: string (nullable = true)\n",
       "-- EXT1_E: string (nullable = true)\n",
       "-- EXT2_E: string (nullable = true)\n",
       "-- EXT3_E: string (nullable = true)\n",
       "-- EXT4_E: string (nullable = true)\n",
       "-- EXT5_E: string (nullable = true)\n",
       "-- EXT6_E: string (nullable = true)\n",
       "-- EXT7_E: string (nullable = true)\n",
       "-- EXT8_E: string (nullable = true)\n",
       "-- EXT9_E: string (nullable = true)\n",
       "-- EXT10_E: string (nullable = true)\n",
       "-- EST1_E: string (nullable = true)\n",
       "-- EST2_E: string (nullable = true)\n",
       "-- EST3_E: string (nullable = true)\n",
       "-- EST4_E: string (nullable = true)\n",
       "-- EST5_E: string (nullable = true)\n",
       "-- EST6_E: string (nullable = true)\n",
       "-- EST7_E: string (nullable = true)\n",
       "-- EST8_E: string (nullable = true)\n",
       "-- EST9_E: string (nullable = true)\n",
       "-- EST10_E: string (nullable = true)\n",
       "-- AGR1_E: string (nullable = true)\n",
       "-- AGR2_E: string (nullable = true)\n",
       "-- AGR3_E: string (nullable = true)\n",
       "-- AGR4_E: string (nullable = true)\n",
       "-- AGR5_E: string (nullable = true)\n",
       "-- AGR6_E: string (nullable = true)\n",
       "-- AGR7_E: string (nullable = true)\n",
       "-- AGR8_E: string (nullable = true)\n",
       "-- AGR9_E: string (nullable = true)\n",
       "-- AGR10_E: string (nullable = true)\n",
       "-- CSN1_E: string (nullable = true)\n",
       "-- CSN2_E: string (nullable = true)\n",
       "-- CSN3_E: string (nullable = true)\n",
       "-- CSN4_E: string (nullable = true)\n",
       "-- CSN5_E: string (nullable = true)\n",
       "-- CSN6_E: string (nullable = true)\n",
       "-- CSN7_E: string (nullable = true)\n",
       "-- CSN8_E: string (nullable = true)\n",
       "-- CSN9_E: string (nullable = true)\n",
       "-- CSN10_E: string (nullable = true)\n",
       "-- OPN1_E: string (nullable = true)\n",
       "-- OPN2_E: string (nullable = true)\n",
       "-- OPN3_E: string (nullable = true)\n",
       "-- OPN4_E: string (nullable = true)\n",
       "-- OPN5_E: string (nullable = true)\n",
       "-- OPN6_E: string (nullable = true)\n",
       "-- OPN7_E: string (nullable = true)\n",
       "-- OPN8_E: string (nullable = true)\n",
       "-- OPN9_E: string (nullable = true)\n",
       "-- OPN10_E: string (nullable = true)\n",
       "-- dateload: string (nullable = true)\n",
       "-- screenw: string (nullable = true)\n",
       "-- screenh: string (nullable = true)\n",
       "-- introelapse: string (nullable = true)\n",
       "-- testelapse: string (nullable = true)\n",
       "-- endelapse: integer (nullable = true)\n",
       "-- IPC: integer (nullable = true)\n",
       "-- country: string (nullable = true)\n",
       "-- lat_appx_lots_of_err: string (nullable = true)\n",
       "-- long_appx_lots_of_err: string (nullable = true)\n",
       "\n",
       "</div>"
      ]
     },
     "metadata": {
      "application/vnd.databricks.v1+output": {
       "addedWidgets": {},
       "arguments": {},
       "data": "<div class=\"ansiout\">root\n |-- EXT1: string (nullable = true)\n |-- EXT2: string (nullable = true)\n |-- EXT3: string (nullable = true)\n |-- EXT4: string (nullable = true)\n |-- EXT5: string (nullable = true)\n |-- EXT6: string (nullable = true)\n |-- EXT7: string (nullable = true)\n |-- EXT8: string (nullable = true)\n |-- EXT9: string (nullable = true)\n |-- EXT10: string (nullable = true)\n |-- EST1: string (nullable = true)\n |-- EST2: string (nullable = true)\n |-- EST3: string (nullable = true)\n |-- EST4: string (nullable = true)\n |-- EST5: string (nullable = true)\n |-- EST6: string (nullable = true)\n |-- EST7: string (nullable = true)\n |-- EST8: string (nullable = true)\n |-- EST9: string (nullable = true)\n |-- EST10: string (nullable = true)\n |-- AGR1: string (nullable = true)\n |-- AGR2: string (nullable = true)\n |-- AGR3: string (nullable = true)\n |-- AGR4: string (nullable = true)\n |-- AGR5: string (nullable = true)\n |-- AGR6: string (nullable = true)\n |-- AGR7: string (nullable = true)\n |-- AGR8: string (nullable = true)\n |-- AGR9: string (nullable = true)\n |-- AGR10: string (nullable = true)\n |-- CSN1: string (nullable = true)\n |-- CSN2: string (nullable = true)\n |-- CSN3: string (nullable = true)\n |-- CSN4: string (nullable = true)\n |-- CSN5: string (nullable = true)\n |-- CSN6: string (nullable = true)\n |-- CSN7: string (nullable = true)\n |-- CSN8: string (nullable = true)\n |-- CSN9: string (nullable = true)\n |-- CSN10: string (nullable = true)\n |-- OPN1: string (nullable = true)\n |-- OPN2: string (nullable = true)\n |-- OPN3: string (nullable = true)\n |-- OPN4: string (nullable = true)\n |-- OPN5: string (nullable = true)\n |-- OPN6: string (nullable = true)\n |-- OPN7: string (nullable = true)\n |-- OPN8: string (nullable = true)\n |-- OPN9: string (nullable = true)\n |-- OPN10: string (nullable = true)\n |-- EXT1_E: string (nullable = true)\n |-- EXT2_E: string (nullable = true)\n |-- EXT3_E: string (nullable = true)\n |-- EXT4_E: string (nullable = true)\n |-- EXT5_E: string (nullable = true)\n |-- EXT6_E: string (nullable = true)\n |-- EXT7_E: string (nullable = true)\n |-- EXT8_E: string (nullable = true)\n |-- EXT9_E: string (nullable = true)\n |-- EXT10_E: string (nullable = true)\n |-- EST1_E: string (nullable = true)\n |-- EST2_E: string (nullable = true)\n |-- EST3_E: string (nullable = true)\n |-- EST4_E: string (nullable = true)\n |-- EST5_E: string (nullable = true)\n |-- EST6_E: string (nullable = true)\n |-- EST7_E: string (nullable = true)\n |-- EST8_E: string (nullable = true)\n |-- EST9_E: string (nullable = true)\n |-- EST10_E: string (nullable = true)\n |-- AGR1_E: string (nullable = true)\n |-- AGR2_E: string (nullable = true)\n |-- AGR3_E: string (nullable = true)\n |-- AGR4_E: string (nullable = true)\n |-- AGR5_E: string (nullable = true)\n |-- AGR6_E: string (nullable = true)\n |-- AGR7_E: string (nullable = true)\n |-- AGR8_E: string (nullable = true)\n |-- AGR9_E: string (nullable = true)\n |-- AGR10_E: string (nullable = true)\n |-- CSN1_E: string (nullable = true)\n |-- CSN2_E: string (nullable = true)\n |-- CSN3_E: string (nullable = true)\n |-- CSN4_E: string (nullable = true)\n |-- CSN5_E: string (nullable = true)\n |-- CSN6_E: string (nullable = true)\n |-- CSN7_E: string (nullable = true)\n |-- CSN8_E: string (nullable = true)\n |-- CSN9_E: string (nullable = true)\n |-- CSN10_E: string (nullable = true)\n |-- OPN1_E: string (nullable = true)\n |-- OPN2_E: string (nullable = true)\n |-- OPN3_E: string (nullable = true)\n |-- OPN4_E: string (nullable = true)\n |-- OPN5_E: string (nullable = true)\n |-- OPN6_E: string (nullable = true)\n |-- OPN7_E: string (nullable = true)\n |-- OPN8_E: string (nullable = true)\n |-- OPN9_E: string (nullable = true)\n |-- OPN10_E: string (nullable = true)\n |-- dateload: string (nullable = true)\n |-- screenw: string (nullable = true)\n |-- screenh: string (nullable = true)\n |-- introelapse: string (nullable = true)\n |-- testelapse: string (nullable = true)\n |-- endelapse: integer (nullable = true)\n |-- IPC: integer (nullable = true)\n |-- country: string (nullable = true)\n |-- lat_appx_lots_of_err: string (nullable = true)\n |-- long_appx_lots_of_err: string (nullable = true)\n\n</div>",
       "datasetInfos": [],
       "removedWidgets": [],
       "type": "html"
      }
     },
     "output_type": "display_data"
    }
   ],
   "source": [
    "df.printSchema()"
   ]
  },
  {
   "cell_type": "code",
   "execution_count": 0,
   "metadata": {
    "application/vnd.databricks.v1+cell": {
     "inputWidgets": {},
     "nuid": "23322c73-3587-445d-95b9-29ae3574464e",
     "showTitle": false,
     "title": ""
    }
   },
   "outputs": [
    {
     "data": {
      "text/html": [
       "<style scoped>\n",
       "  .ansiout {\n",
       "    display: block;\n",
       "    unicode-bidi: embed;\n",
       "    white-space: pre-wrap;\n",
       "    word-wrap: break-word;\n",
       "    word-break: break-all;\n",
       "    font-family: \"Source Code Pro\", \"Menlo\", monospace;;\n",
       "    font-size: 13px;\n",
       "    color: #555;\n",
       "    margin-left: 4px;\n",
       "    line-height: 19px;\n",
       "  }\n",
       "</style>\n",
       "<div class=\"ansiout\"></div>"
      ]
     },
     "metadata": {
      "application/vnd.databricks.v1+output": {
       "addedWidgets": {},
       "arguments": {},
       "data": "<div class=\"ansiout\"></div>",
       "datasetInfos": [],
       "removedWidgets": [],
       "type": "html"
      }
     },
     "output_type": "display_data"
    },
    {
     "data": {
      "text/html": [
       "<style scoped>\n",
       "  .ansiout {\n",
       "    display: block;\n",
       "    unicode-bidi: embed;\n",
       "    white-space: pre-wrap;\n",
       "    word-wrap: break-word;\n",
       "    word-break: break-all;\n",
       "    font-family: \"Source Code Pro\", \"Menlo\", monospace;;\n",
       "    font-size: 13px;\n",
       "    color: #555;\n",
       "    margin-left: 4px;\n",
       "    line-height: 19px;\n",
       "  }\n",
       "</style>\n",
       "<div class=\"ansiout\"><span class=\"ansi-red-fg\">---------------------------------------------------------------------------</span>\n",
       "<span class=\"ansi-red-fg\">AttributeError</span>                            Traceback (most recent call last)\n",
       "<span class=\"ansi-green-fg\">&lt;command-1032517223784965&gt;</span> in <span class=\"ansi-cyan-fg\">&lt;module&gt;</span>\n",
       "<span class=\"ansi-green-intense-fg ansi-bold\">      1</span> <span class=\"ansi-red-fg\"># df.createOrReplaceTempView(&#34;dfTable&#34;)</span>\n",
       "<span class=\"ansi-green-intense-fg ansi-bold\">      2</span> <span class=\"ansi-red-fg\"># spark.sql(&#34;SELECT * from dfTable&#34;)</span>\n",
       "<span class=\"ansi-green-fg\">----&gt; 3</span><span class=\"ansi-red-fg\"> </span>df<span class=\"ansi-blue-fg\">.</span>features<span class=\"ansi-blue-fg\">(</span><span class=\"ansi-blue-fg\">)</span>\n",
       "\n",
       "<span class=\"ansi-green-fg\">/databricks/spark/python/pyspark/sql/dataframe.py</span> in <span class=\"ansi-cyan-fg\">__getattr__</span><span class=\"ansi-blue-fg\">(self, name)</span>\n",
       "<span class=\"ansi-green-intense-fg ansi-bold\">   1664</span>         &#34;&#34;&#34;\n",
       "<span class=\"ansi-green-intense-fg ansi-bold\">   1665</span>         <span class=\"ansi-green-fg\">if</span> name <span class=\"ansi-green-fg\">not</span> <span class=\"ansi-green-fg\">in</span> self<span class=\"ansi-blue-fg\">.</span>columns<span class=\"ansi-blue-fg\">:</span>\n",
       "<span class=\"ansi-green-fg\">-&gt; 1666</span><span class=\"ansi-red-fg\">             raise AttributeError(\n",
       "</span><span class=\"ansi-green-intense-fg ansi-bold\">   1667</span>                 &#34;&#39;%s&#39; object has no attribute &#39;%s&#39;&#34; % (self.__class__.__name__, name))\n",
       "<span class=\"ansi-green-intense-fg ansi-bold\">   1668</span>         jc <span class=\"ansi-blue-fg\">=</span> self<span class=\"ansi-blue-fg\">.</span>_jdf<span class=\"ansi-blue-fg\">.</span>apply<span class=\"ansi-blue-fg\">(</span>name<span class=\"ansi-blue-fg\">)</span>\n",
       "\n",
       "<span class=\"ansi-red-fg\">AttributeError</span>: &#39;DataFrame&#39; object has no attribute &#39;features&#39;</div>"
      ]
     },
     "metadata": {
      "application/vnd.databricks.v1+output": {
       "arguments": {},
       "data": "<div class=\"ansiout\"><span class=\"ansi-red-fg\">---------------------------------------------------------------------------</span>\n<span class=\"ansi-red-fg\">AttributeError</span>                            Traceback (most recent call last)\n<span class=\"ansi-green-fg\">&lt;command-1032517223784965&gt;</span> in <span class=\"ansi-cyan-fg\">&lt;module&gt;</span>\n<span class=\"ansi-green-intense-fg ansi-bold\">      1</span> <span class=\"ansi-red-fg\"># df.createOrReplaceTempView(&#34;dfTable&#34;)</span>\n<span class=\"ansi-green-intense-fg ansi-bold\">      2</span> <span class=\"ansi-red-fg\"># spark.sql(&#34;SELECT * from dfTable&#34;)</span>\n<span class=\"ansi-green-fg\">----&gt; 3</span><span class=\"ansi-red-fg\"> </span>df<span class=\"ansi-blue-fg\">.</span>features<span class=\"ansi-blue-fg\">(</span><span class=\"ansi-blue-fg\">)</span>\n\n<span class=\"ansi-green-fg\">/databricks/spark/python/pyspark/sql/dataframe.py</span> in <span class=\"ansi-cyan-fg\">__getattr__</span><span class=\"ansi-blue-fg\">(self, name)</span>\n<span class=\"ansi-green-intense-fg ansi-bold\">   1664</span>         &#34;&#34;&#34;\n<span class=\"ansi-green-intense-fg ansi-bold\">   1665</span>         <span class=\"ansi-green-fg\">if</span> name <span class=\"ansi-green-fg\">not</span> <span class=\"ansi-green-fg\">in</span> self<span class=\"ansi-blue-fg\">.</span>columns<span class=\"ansi-blue-fg\">:</span>\n<span class=\"ansi-green-fg\">-&gt; 1666</span><span class=\"ansi-red-fg\">             raise AttributeError(\n</span><span class=\"ansi-green-intense-fg ansi-bold\">   1667</span>                 &#34;&#39;%s&#39; object has no attribute &#39;%s&#39;&#34; % (self.__class__.__name__, name))\n<span class=\"ansi-green-intense-fg ansi-bold\">   1668</span>         jc <span class=\"ansi-blue-fg\">=</span> self<span class=\"ansi-blue-fg\">.</span>_jdf<span class=\"ansi-blue-fg\">.</span>apply<span class=\"ansi-blue-fg\">(</span>name<span class=\"ansi-blue-fg\">)</span>\n\n<span class=\"ansi-red-fg\">AttributeError</span>: &#39;DataFrame&#39; object has no attribute &#39;features&#39;</div>",
       "errorSummary": "<span class=\"ansi-red-fg\">AttributeError</span>: &#39;DataFrame&#39; object has no attribute &#39;features&#39;",
       "type": "ipynbError"
      }
     },
     "output_type": "display_data"
    }
   ],
   "source": [
    "# df.createOrReplaceTempView(\"dfTable\")\n",
    "# spark.sql(\"SELECT * from dfTable\")\n"
   ]
  },
  {
   "cell_type": "code",
   "execution_count": 0,
   "metadata": {
    "application/vnd.databricks.v1+cell": {
     "inputWidgets": {},
     "nuid": "49e93e4b-83e5-45aa-ac74-cd354f43aade",
     "showTitle": false,
     "title": ""
    }
   },
   "outputs": [
    {
     "data": {
      "text/html": [
       "<style scoped>\n",
       "  .ansiout {\n",
       "    display: block;\n",
       "    unicode-bidi: embed;\n",
       "    white-space: pre-wrap;\n",
       "    word-wrap: break-word;\n",
       "    word-break: break-all;\n",
       "    font-family: \"Source Code Pro\", \"Menlo\", monospace;;\n",
       "    font-size: 13px;\n",
       "    color: #555;\n",
       "    margin-left: 4px;\n",
       "    line-height: 19px;\n",
       "  }\n",
       "</style>\n",
       "<div class=\"ansiout\"></div>"
      ]
     },
     "metadata": {
      "application/vnd.databricks.v1+output": {
       "addedWidgets": {},
       "arguments": {},
       "data": "<div class=\"ansiout\"></div>",
       "datasetInfos": [],
       "removedWidgets": [],
       "type": "html"
      }
     },
     "output_type": "display_data"
    }
   ],
   "source": [
    "from pyspark.sql.types import *"
   ]
  },
  {
   "cell_type": "markdown",
   "metadata": {
    "application/vnd.databricks.v1+cell": {
     "inputWidgets": {},
     "nuid": "052197d6-307f-44ee-9ca1-cd7b2c017c93",
     "showTitle": false,
     "title": ""
    }
   },
   "source": [
    "Process the value into float type for later processing"
   ]
  },
  {
   "cell_type": "code",
   "execution_count": 0,
   "metadata": {
    "application/vnd.databricks.v1+cell": {
     "inputWidgets": {},
     "nuid": "387500db-8d84-4f71-a496-38fbec8fedb7",
     "showTitle": false,
     "title": ""
    }
   },
   "outputs": [
    {
     "data": {
      "text/html": [
       "<style scoped>\n",
       "  .ansiout {\n",
       "    display: block;\n",
       "    unicode-bidi: embed;\n",
       "    white-space: pre-wrap;\n",
       "    word-wrap: break-word;\n",
       "    word-break: break-all;\n",
       "    font-family: \"Source Code Pro\", \"Menlo\", monospace;;\n",
       "    font-size: 13px;\n",
       "    color: #555;\n",
       "    margin-left: 4px;\n",
       "    line-height: 19px;\n",
       "  }\n",
       "</style>\n",
       "<div class=\"ansiout\"></div>"
      ]
     },
     "metadata": {
      "application/vnd.databricks.v1+output": {
       "addedWidgets": {},
       "arguments": {},
       "data": "<div class=\"ansiout\"></div>",
       "datasetInfos": [],
       "removedWidgets": [],
       "type": "html"
      }
     },
     "output_type": "display_data"
    }
   ],
   "source": [
    "features = [\"EXT1\", \"EXT2\" ,\"EXT3\" ,\"EXT4\" ,\"EXT5\" ,\"EXT6\" ,\"EXT7\" ,\"EXT8\" ,\"EXT9\" ,\"EXT10\",\n",
    "            \"EST1\" ,\"EST2\" ,\"EST3\" ,\"EST4\" ,\"EST5\" ,\"EST6\" ,\"EST7\" ,\"EST8\" ,\"EST9\" ,\"EST10\",\n",
    "            \"AGR1\" ,\"AGR2\" ,\"AGR3\" ,\"AGR4\" ,\"AGR5\" ,\"AGR6\" ,\"AGR7\" ,\"AGR8\" ,\"AGR9\" ,\"AGR10\",\n",
    "            \"CSN1\" ,\"CSN2\" ,\"CSN3\" ,\"CSN4\" ,\"CSN5\" ,\"CSN6\" ,\"CSN7\" ,\"CSN8\" ,\"CSN9\" ,\"CSN10\",\n",
    "            \"OPN1\" ,\"OPN2\" ,\"OPN3\" ,\"OPN4\" ,\"OPN5\" ,\"OPN6\" ,\"OPN7\" ,\"OPN8\" ,\"OPN9\" ,\"OPN10\"\n",
    "           ]\n",
    "\n",
    "dropList = []\n",
    "\n",
    "for each_feature in df.columns:\n",
    "\n",
    "    if each_feature in features:\n",
    "            df = df.withColumn(each_feature, df[each_feature].cast(FloatType()))\n",
    "    elif each_feature != \"country\":\n",
    "            dropList.append(each_feature)\n",
    "\n",
    "df = df.drop(*dropList)"
   ]
  },
  {
   "cell_type": "code",
   "execution_count": 0,
   "metadata": {
    "application/vnd.databricks.v1+cell": {
     "inputWidgets": {},
     "nuid": "775d3feb-0586-421c-b4bb-bab1d755114f",
     "showTitle": false,
     "title": ""
    }
   },
   "outputs": [
    {
     "data": {
      "text/html": [
       "<style scoped>\n",
       "  .ansiout {\n",
       "    display: block;\n",
       "    unicode-bidi: embed;\n",
       "    white-space: pre-wrap;\n",
       "    word-wrap: break-word;\n",
       "    word-break: break-all;\n",
       "    font-family: \"Source Code Pro\", \"Menlo\", monospace;;\n",
       "    font-size: 13px;\n",
       "    color: #555;\n",
       "    margin-left: 4px;\n",
       "    line-height: 19px;\n",
       "  }\n",
       "</style>\n",
       "<div class=\"ansiout\">root\n",
       "-- EXT1: float (nullable = true)\n",
       "-- EXT2: float (nullable = true)\n",
       "-- EXT3: float (nullable = true)\n",
       "-- EXT4: float (nullable = true)\n",
       "-- EXT5: float (nullable = true)\n",
       "-- EXT6: float (nullable = true)\n",
       "-- EXT7: float (nullable = true)\n",
       "-- EXT8: float (nullable = true)\n",
       "-- EXT9: float (nullable = true)\n",
       "-- EXT10: float (nullable = true)\n",
       "-- EST1: float (nullable = true)\n",
       "-- EST2: float (nullable = true)\n",
       "-- EST3: float (nullable = true)\n",
       "-- EST4: float (nullable = true)\n",
       "-- EST5: float (nullable = true)\n",
       "-- EST6: float (nullable = true)\n",
       "-- EST7: float (nullable = true)\n",
       "-- EST8: float (nullable = true)\n",
       "-- EST9: float (nullable = true)\n",
       "-- EST10: float (nullable = true)\n",
       "-- AGR1: float (nullable = true)\n",
       "-- AGR2: float (nullable = true)\n",
       "-- AGR3: float (nullable = true)\n",
       "-- AGR4: float (nullable = true)\n",
       "-- AGR5: float (nullable = true)\n",
       "-- AGR6: float (nullable = true)\n",
       "-- AGR7: float (nullable = true)\n",
       "-- AGR8: float (nullable = true)\n",
       "-- AGR9: float (nullable = true)\n",
       "-- AGR10: float (nullable = true)\n",
       "-- CSN1: float (nullable = true)\n",
       "-- CSN2: float (nullable = true)\n",
       "-- CSN3: float (nullable = true)\n",
       "-- CSN4: float (nullable = true)\n",
       "-- CSN5: float (nullable = true)\n",
       "-- CSN6: float (nullable = true)\n",
       "-- CSN7: float (nullable = true)\n",
       "-- CSN8: float (nullable = true)\n",
       "-- CSN9: float (nullable = true)\n",
       "-- CSN10: float (nullable = true)\n",
       "-- OPN1: float (nullable = true)\n",
       "-- OPN2: float (nullable = true)\n",
       "-- OPN3: float (nullable = true)\n",
       "-- OPN4: float (nullable = true)\n",
       "-- OPN5: float (nullable = true)\n",
       "-- OPN6: float (nullable = true)\n",
       "-- OPN7: float (nullable = true)\n",
       "-- OPN8: float (nullable = true)\n",
       "-- OPN9: float (nullable = true)\n",
       "-- OPN10: float (nullable = true)\n",
       "-- country: string (nullable = true)\n",
       "\n",
       "</div>"
      ]
     },
     "metadata": {
      "application/vnd.databricks.v1+output": {
       "addedWidgets": {},
       "arguments": {},
       "data": "<div class=\"ansiout\">root\n |-- EXT1: float (nullable = true)\n |-- EXT2: float (nullable = true)\n |-- EXT3: float (nullable = true)\n |-- EXT4: float (nullable = true)\n |-- EXT5: float (nullable = true)\n |-- EXT6: float (nullable = true)\n |-- EXT7: float (nullable = true)\n |-- EXT8: float (nullable = true)\n |-- EXT9: float (nullable = true)\n |-- EXT10: float (nullable = true)\n |-- EST1: float (nullable = true)\n |-- EST2: float (nullable = true)\n |-- EST3: float (nullable = true)\n |-- EST4: float (nullable = true)\n |-- EST5: float (nullable = true)\n |-- EST6: float (nullable = true)\n |-- EST7: float (nullable = true)\n |-- EST8: float (nullable = true)\n |-- EST9: float (nullable = true)\n |-- EST10: float (nullable = true)\n |-- AGR1: float (nullable = true)\n |-- AGR2: float (nullable = true)\n |-- AGR3: float (nullable = true)\n |-- AGR4: float (nullable = true)\n |-- AGR5: float (nullable = true)\n |-- AGR6: float (nullable = true)\n |-- AGR7: float (nullable = true)\n |-- AGR8: float (nullable = true)\n |-- AGR9: float (nullable = true)\n |-- AGR10: float (nullable = true)\n |-- CSN1: float (nullable = true)\n |-- CSN2: float (nullable = true)\n |-- CSN3: float (nullable = true)\n |-- CSN4: float (nullable = true)\n |-- CSN5: float (nullable = true)\n |-- CSN6: float (nullable = true)\n |-- CSN7: float (nullable = true)\n |-- CSN8: float (nullable = true)\n |-- CSN9: float (nullable = true)\n |-- CSN10: float (nullable = true)\n |-- OPN1: float (nullable = true)\n |-- OPN2: float (nullable = true)\n |-- OPN3: float (nullable = true)\n |-- OPN4: float (nullable = true)\n |-- OPN5: float (nullable = true)\n |-- OPN6: float (nullable = true)\n |-- OPN7: float (nullable = true)\n |-- OPN8: float (nullable = true)\n |-- OPN9: float (nullable = true)\n |-- OPN10: float (nullable = true)\n |-- country: string (nullable = true)\n\n</div>",
       "datasetInfos": [],
       "removedWidgets": [],
       "type": "html"
      }
     },
     "output_type": "display_data"
    }
   ],
   "source": [
    "df.printSchema()"
   ]
  },
  {
   "cell_type": "code",
   "execution_count": 0,
   "metadata": {
    "application/vnd.databricks.v1+cell": {
     "inputWidgets": {},
     "nuid": "fc062f75-d7f6-40bf-8eaa-d013f3c821a1",
     "showTitle": false,
     "title": ""
    }
   },
   "outputs": [
    {
     "data": {
      "text/html": [
       "<style scoped>\n",
       "  .ansiout {\n",
       "    display: block;\n",
       "    unicode-bidi: embed;\n",
       "    white-space: pre-wrap;\n",
       "    word-wrap: break-word;\n",
       "    word-break: break-all;\n",
       "    font-family: \"Source Code Pro\", \"Menlo\", monospace;;\n",
       "    font-size: 13px;\n",
       "    color: #555;\n",
       "    margin-left: 4px;\n",
       "    line-height: 19px;\n",
       "  }\n",
       "</style>\n",
       "<div class=\"ansiout\">[&#39;EXT1&#39;, &#39;EXT2&#39;, &#39;EXT3&#39;, &#39;EXT4&#39;, &#39;EXT5&#39;, &#39;EXT6&#39;, &#39;EXT7&#39;, &#39;EXT8&#39;, &#39;EXT9&#39;, &#39;EXT10&#39;, &#39;EST1&#39;, &#39;EST2&#39;, &#39;EST3&#39;, &#39;EST4&#39;, &#39;EST5&#39;, &#39;EST6&#39;, &#39;EST7&#39;, &#39;EST8&#39;, &#39;EST9&#39;, &#39;EST10&#39;, &#39;AGR1&#39;, &#39;AGR2&#39;, &#39;AGR3&#39;, &#39;AGR4&#39;, &#39;AGR5&#39;, &#39;AGR6&#39;, &#39;AGR7&#39;, &#39;AGR8&#39;, &#39;AGR9&#39;, &#39;AGR10&#39;, &#39;CSN1&#39;, &#39;CSN2&#39;, &#39;CSN3&#39;, &#39;CSN4&#39;, &#39;CSN5&#39;, &#39;CSN6&#39;, &#39;CSN7&#39;, &#39;CSN8&#39;, &#39;CSN9&#39;, &#39;CSN10&#39;, &#39;OPN1&#39;, &#39;OPN2&#39;, &#39;OPN3&#39;, &#39;OPN4&#39;, &#39;OPN5&#39;, &#39;OPN6&#39;, &#39;OPN7&#39;, &#39;OPN8&#39;, &#39;OPN9&#39;, &#39;OPN10&#39;]\n",
       "</div>"
      ]
     },
     "metadata": {
      "application/vnd.databricks.v1+output": {
       "addedWidgets": {},
       "arguments": {},
       "data": "<div class=\"ansiout\">[&#39;EXT1&#39;, &#39;EXT2&#39;, &#39;EXT3&#39;, &#39;EXT4&#39;, &#39;EXT5&#39;, &#39;EXT6&#39;, &#39;EXT7&#39;, &#39;EXT8&#39;, &#39;EXT9&#39;, &#39;EXT10&#39;, &#39;EST1&#39;, &#39;EST2&#39;, &#39;EST3&#39;, &#39;EST4&#39;, &#39;EST5&#39;, &#39;EST6&#39;, &#39;EST7&#39;, &#39;EST8&#39;, &#39;EST9&#39;, &#39;EST10&#39;, &#39;AGR1&#39;, &#39;AGR2&#39;, &#39;AGR3&#39;, &#39;AGR4&#39;, &#39;AGR5&#39;, &#39;AGR6&#39;, &#39;AGR7&#39;, &#39;AGR8&#39;, &#39;AGR9&#39;, &#39;AGR10&#39;, &#39;CSN1&#39;, &#39;CSN2&#39;, &#39;CSN3&#39;, &#39;CSN4&#39;, &#39;CSN5&#39;, &#39;CSN6&#39;, &#39;CSN7&#39;, &#39;CSN8&#39;, &#39;CSN9&#39;, &#39;CSN10&#39;, &#39;OPN1&#39;, &#39;OPN2&#39;, &#39;OPN3&#39;, &#39;OPN4&#39;, &#39;OPN5&#39;, &#39;OPN6&#39;, &#39;OPN7&#39;, &#39;OPN8&#39;, &#39;OPN9&#39;, &#39;OPN10&#39;]\n</div>",
       "datasetInfos": [],
       "removedWidgets": [],
       "type": "html"
      }
     },
     "output_type": "display_data"
    }
   ],
   "source": [
    "numeric_feats = [item[0] for item in df.dtypes if item[1].startswith('float')]\n",
    "print(numeric_feats)"
   ]
  },
  {
   "cell_type": "markdown",
   "metadata": {
    "application/vnd.databricks.v1+cell": {
     "inputWidgets": {},
     "nuid": "24f6ce79-8aa1-4634-bf42-ef6746f7ffe2",
     "showTitle": false,
     "title": ""
    }
   },
   "source": [
    "Fill the missing values with the mean value"
   ]
  },
  {
   "cell_type": "code",
   "execution_count": 0,
   "metadata": {
    "application/vnd.databricks.v1+cell": {
     "inputWidgets": {},
     "nuid": "640a8094-5d56-474e-b5ce-344bdd4266f2",
     "showTitle": false,
     "title": ""
    }
   },
   "outputs": [
    {
     "data": {
      "text/html": [
       "<style scoped>\n",
       "  .ansiout {\n",
       "    display: block;\n",
       "    unicode-bidi: embed;\n",
       "    white-space: pre-wrap;\n",
       "    word-wrap: break-word;\n",
       "    word-break: break-all;\n",
       "    font-family: \"Source Code Pro\", \"Menlo\", monospace;;\n",
       "    font-size: 13px;\n",
       "    color: #555;\n",
       "    margin-left: 4px;\n",
       "    line-height: 19px;\n",
       "  }\n",
       "</style>\n",
       "<div class=\"ansiout\"></div>"
      ]
     },
     "metadata": {
      "application/vnd.databricks.v1+output": {
       "addedWidgets": {},
       "arguments": {},
       "data": "<div class=\"ansiout\"></div>",
       "datasetInfos": [],
       "removedWidgets": [],
       "type": "html"
      }
     },
     "output_type": "display_data"
    }
   ],
   "source": [
    "from pyspark.ml.feature import Imputer\n",
    "\n",
    "imputer = Imputer(strategy='mean', inputCols=numeric_feats, outputCols=numeric_feats)\n",
    "df = imputer.fit(df).transform(df)"
   ]
  },
  {
   "cell_type": "code",
   "execution_count": 0,
   "metadata": {
    "application/vnd.databricks.v1+cell": {
     "inputWidgets": {},
     "nuid": "77b6db8c-54a3-45e9-9d57-d31b1c8101a1",
     "showTitle": false,
     "title": ""
    }
   },
   "outputs": [
    {
     "data": {
      "text/html": [
       "<style scoped>\n",
       "  .ansiout {\n",
       "    display: block;\n",
       "    unicode-bidi: embed;\n",
       "    white-space: pre-wrap;\n",
       "    word-wrap: break-word;\n",
       "    word-break: break-all;\n",
       "    font-family: \"Source Code Pro\", \"Menlo\", monospace;;\n",
       "    font-size: 13px;\n",
       "    color: #555;\n",
       "    margin-left: 4px;\n",
       "    line-height: 19px;\n",
       "  }\n",
       "</style>\n",
       "<div class=\"ansiout\"></div>"
      ]
     },
     "metadata": {
      "application/vnd.databricks.v1+output": {
       "addedWidgets": {},
       "arguments": {},
       "data": "<div class=\"ansiout\"></div>",
       "datasetInfos": [],
       "removedWidgets": [],
       "type": "html"
      }
     },
     "output_type": "display_data"
    }
   ],
   "source": [
    "from pyspark.ml.stat import Correlation\n",
    "from pyspark.ml.feature import VectorAssembler\n",
    "\n",
    "# convert to vector column first\n",
    "vector_col = \"corr_features\"\n",
    "assembler = VectorAssembler(inputCols=df[numeric_feats].columns, outputCol=vector_col)\n",
    "df_vector = assembler.transform(df[numeric_feats]).select(vector_col)\n",
    "\n",
    "# get correlation matrix\n",
    "matrix = Correlation.corr(df_vector, vector_col)"
   ]
  },
  {
   "cell_type": "code",
   "execution_count": 0,
   "metadata": {
    "application/vnd.databricks.v1+cell": {
     "inputWidgets": {},
     "nuid": "b0419325-9f1c-47dd-a63f-f88080bfad1d",
     "showTitle": false,
     "title": ""
    }
   },
   "outputs": [
    {
     "data": {
      "text/html": [
       "<style scoped>\n",
       "  .ansiout {\n",
       "    display: block;\n",
       "    unicode-bidi: embed;\n",
       "    white-space: pre-wrap;\n",
       "    word-wrap: break-word;\n",
       "    word-break: break-all;\n",
       "    font-family: \"Source Code Pro\", \"Menlo\", monospace;;\n",
       "    font-size: 13px;\n",
       "    color: #555;\n",
       "    margin-left: 4px;\n",
       "    line-height: 19px;\n",
       "  }\n",
       "</style>\n",
       "<div class=\"ansiout\">Out[9]: </div>"
      ]
     },
     "metadata": {
      "application/vnd.databricks.v1+output": {
       "addedWidgets": {},
       "arguments": {},
       "data": "<div class=\"ansiout\">Out[9]: </div>",
       "datasetInfos": [],
       "removedWidgets": [],
       "type": "html"
      }
     },
     "output_type": "display_data"
    },
    {
     "data": {
      "image/png": "[encoded data removed]"
     },
     "metadata": {
      "application/vnd.databricks.v1+output": {
       "addedWidgets": {},
       "arguments": {},
       "data": "/plots/c09c7ed8-bdb2-4897-8b79-09bba65bb792.png",
       "datasetInfos": [],
       "removedWidgets": [],
       "type": "image"
      }
     },
     "output_type": "display_data"
    },
    {
     "data": {
      "text/html": [
       "<style scoped>\n",
       "  .ansiout {\n",
       "    display: block;\n",
       "    unicode-bidi: embed;\n",
       "    white-space: pre-wrap;\n",
       "    word-wrap: break-word;\n",
       "    word-break: break-all;\n",
       "    font-family: \"Source Code Pro\", \"Menlo\", monospace;;\n",
       "    font-size: 13px;\n",
       "    color: #555;\n",
       "    margin-left: 4px;\n",
       "    line-height: 19px;\n",
       "  }\n",
       "</style>\n",
       "<div class=\"ansiout\">Text(0, 0.5, &#39;p&#39;)</div>"
      ]
     },
     "metadata": {
      "application/vnd.databricks.v1+output": {
       "addedWidgets": {},
       "arguments": {},
       "data": "<div class=\"ansiout\">Text(0, 0.5, &#39;p&#39;)</div>",
       "datasetInfos": [],
       "removedWidgets": [],
       "type": "html"
      }
     },
     "output_type": "display_data"
    }
   ],
   "source": [
    "from matplotlib import pyplot as plt\n",
    "# import matplotlib as plt\n",
    "import pandas as pd\n",
    "import numpy as np\n",
    "matrix =  matrix.collect()\n",
    "a = matrix[0][0].toArray()\n",
    "plt.figure(figsize=(30, 30))\n",
    "plt.imshow(a, cmap=\"hot\", interpolation=\"nearest\")\n",
    "plt.colorbar()\n",
    "plt.xticks(ticks=range(50), labels=range(50))\n",
    "plt.xlabel(\"q\")\n",
    "plt.yticks(ticks=range(50), labels=range(50))\n",
    "plt.ylabel(\"p\")"
   ]
  },
  {
   "cell_type": "markdown",
   "metadata": {
    "application/vnd.databricks.v1+cell": {
     "inputWidgets": {},
     "nuid": "f19876ee-07a3-463c-8a50-1992940ceb5b",
     "showTitle": false,
     "title": ""
    }
   },
   "source": [
    "Solve the problem of data skewness"
   ]
  },
  {
   "cell_type": "code",
   "execution_count": 0,
   "metadata": {
    "application/vnd.databricks.v1+cell": {
     "inputWidgets": {},
     "nuid": "1408de4a-311d-42a5-b163-da5ebf1ac9e3",
     "showTitle": false,
     "title": ""
    }
   },
   "outputs": [
    {
     "data": {
      "text/html": [
       "<style scoped>\n",
       "  .ansiout {\n",
       "    display: block;\n",
       "    unicode-bidi: embed;\n",
       "    white-space: pre-wrap;\n",
       "    word-wrap: break-word;\n",
       "    word-break: break-all;\n",
       "    font-family: \"Source Code Pro\", \"Menlo\", monospace;;\n",
       "    font-size: 13px;\n",
       "    color: #555;\n",
       "    margin-left: 4px;\n",
       "    line-height: 19px;\n",
       "  }\n",
       "</style>\n",
       "<div class=\"ansiout\">OPN2 \t 0.8094540760714686\n",
       "OPN4 \t 0.8933137687413039\n",
       "OPN6 \t 1.1498020328954115\n",
       "[&#39;OPN2&#39;, &#39;OPN4&#39;, &#39;OPN6&#39;]\n",
       "</div>"
      ]
     },
     "metadata": {
      "application/vnd.databricks.v1+output": {
       "addedWidgets": {},
       "arguments": {},
       "data": "<div class=\"ansiout\">OPN2 \t 0.8094540760714686\nOPN4 \t 0.8933137687413039\nOPN6 \t 1.1498020328954115\n[&#39;OPN2&#39;, &#39;OPN4&#39;, &#39;OPN6&#39;]\n</div>",
       "datasetInfos": [],
       "removedWidgets": [],
       "type": "html"
      }
     },
     "output_type": "display_data"
    }
   ],
   "source": [
    "from pyspark.sql.functions import skewness\n",
    "\n",
    "skewed_feats = []\n",
    "for col in numeric_feats:\n",
    "    s = df.select(skewness(df[col]).alias(col)).collect()\n",
    "    skew_value = float(s[0][col])\n",
    "    if (skew_value > 0.75):\n",
    "        print (col, \"\\t\", skew_value)\n",
    "        skewed_feats.append(col)\n",
    "\n",
    "print(skewed_feats)"
   ]
  },
  {
   "cell_type": "code",
   "execution_count": 0,
   "metadata": {
    "application/vnd.databricks.v1+cell": {
     "inputWidgets": {},
     "nuid": "2d17a6e0-b824-4e0a-a0b0-39dd2724f1fe",
     "showTitle": false,
     "title": ""
    }
   },
   "outputs": [
    {
     "data": {
      "text/html": [
       "<style scoped>\n",
       "  .ansiout {\n",
       "    display: block;\n",
       "    unicode-bidi: embed;\n",
       "    white-space: pre-wrap;\n",
       "    word-wrap: break-word;\n",
       "    word-break: break-all;\n",
       "    font-family: \"Source Code Pro\", \"Menlo\", monospace;;\n",
       "    font-size: 13px;\n",
       "    color: #555;\n",
       "    margin-left: 4px;\n",
       "    line-height: 19px;\n",
       "  }\n",
       "</style>\n",
       "<div class=\"ansiout\"></div>"
      ]
     },
     "metadata": {
      "application/vnd.databricks.v1+output": {
       "addedWidgets": {},
       "arguments": {},
       "data": "<div class=\"ansiout\"></div>",
       "datasetInfos": [],
       "removedWidgets": [],
       "type": "html"
      }
     },
     "output_type": "display_data"
    }
   ],
   "source": [
    "from pyspark.sql.functions import log1p\n",
    "\n",
    "for feat in skewed_feats:\n",
    "   df = df.withColumn(feat, log1p(df[feat]))"
   ]
  },
  {
   "cell_type": "markdown",
   "metadata": {
    "application/vnd.databricks.v1+cell": {
     "inputWidgets": {},
     "nuid": "84e2ab6d-ff94-40bf-b972-d51a5e22831b",
     "showTitle": false,
     "title": ""
    }
   },
   "source": [
    "Encode nationality with onehot encoder"
   ]
  },
  {
   "cell_type": "code",
   "execution_count": 0,
   "metadata": {
    "application/vnd.databricks.v1+cell": {
     "inputWidgets": {},
     "nuid": "e0fbf4d5-ebf3-42c4-9a77-9133ce02632b",
     "showTitle": false,
     "title": ""
    }
   },
   "outputs": [
    {
     "data": {
      "text/html": [
       "<style scoped>\n",
       "  .ansiout {\n",
       "    display: block;\n",
       "    unicode-bidi: embed;\n",
       "    white-space: pre-wrap;\n",
       "    word-wrap: break-word;\n",
       "    word-break: break-all;\n",
       "    font-family: \"Source Code Pro\", \"Menlo\", monospace;;\n",
       "    font-size: 13px;\n",
       "    color: #555;\n",
       "    margin-left: 4px;\n",
       "    line-height: 19px;\n",
       "  }\n",
       "</style>\n",
       "<div class=\"ansiout\"></div>"
      ]
     },
     "metadata": {
      "application/vnd.databricks.v1+output": {
       "addedWidgets": {},
       "arguments": {},
       "data": "<div class=\"ansiout\"></div>",
       "datasetInfos": [],
       "removedWidgets": [],
       "type": "html"
      }
     },
     "output_type": "display_data"
    }
   ],
   "source": [
    "categorical_feats = ['country']\n",
    "from pyspark.ml.feature import OneHotEncoder, StringIndexer\n",
    "\n",
    "td = df\n",
    "for feat in categorical_feats:\n",
    "    stringIndexer = StringIndexer(inputCol=feat, outputCol=feat+\"_indexed\")\n",
    "    model = stringIndexer.fit(td)\n",
    "    td = model.transform(td)"
   ]
  },
  {
   "cell_type": "code",
   "execution_count": 0,
   "metadata": {
    "application/vnd.databricks.v1+cell": {
     "inputWidgets": {},
     "nuid": "c7c98eae-e840-4aca-ad73-498293937fd4",
     "showTitle": false,
     "title": ""
    }
   },
   "outputs": [
    {
     "data": {
      "text/html": [
       "<style scoped>\n",
       "  .ansiout {\n",
       "    display: block;\n",
       "    unicode-bidi: embed;\n",
       "    white-space: pre-wrap;\n",
       "    word-wrap: break-word;\n",
       "    word-break: break-all;\n",
       "    font-family: \"Source Code Pro\", \"Menlo\", monospace;;\n",
       "    font-size: 13px;\n",
       "    color: #555;\n",
       "    margin-left: 4px;\n",
       "    line-height: 19px;\n",
       "  }\n",
       "</style>\n",
       "<div class=\"ansiout\">+----+----+----+----+----+----+----+----+----+-----+----+----+----+----+----+----+----+----+----+-----+----+----+----+----+----+----+----+----+----+-----+----+----+----+----+----+----+----+----+----+-----+----+------------------+----+------------------+----+------------------+----+----+----+-----+-------+---------------+\n",
       "EXT1|EXT2|EXT3|EXT4|EXT5|EXT6|EXT7|EXT8|EXT9|EXT10|EST1|EST2|EST3|EST4|EST5|EST6|EST7|EST8|EST9|EST10|AGR1|AGR2|AGR3|AGR4|AGR5|AGR6|AGR7|AGR8|AGR9|AGR10|CSN1|CSN2|CSN3|CSN4|CSN5|CSN6|CSN7|CSN8|CSN9|CSN10|OPN1|              OPN2|OPN3|              OPN4|OPN5|              OPN6|OPN7|OPN8|OPN9|OPN10|country|country_indexed|\n",
       "+----+----+----+----+----+----+----+----+----+-----+----+----+----+----+----+----+----+----+----+-----+----+----+----+----+----+----+----+----+----+-----+----+----+----+----+----+----+----+----+----+-----+----+------------------+----+------------------+----+------------------+----+----+----+-----+-------+---------------+\n",
       " 4.0| 1.0| 5.0| 2.0| 5.0| 1.0| 5.0| 2.0| 4.0|  1.0| 1.0| 4.0| 4.0| 2.0| 2.0| 2.0| 2.0| 2.0| 3.0|  2.0| 2.0| 5.0| 2.0| 4.0| 2.0| 3.0| 2.0| 4.0| 3.0|  4.0| 3.0| 4.0| 3.0| 2.0| 2.0| 4.0| 4.0| 2.0| 4.0|  4.0| 5.0|0.6931471805599453| 4.0|0.6931471805599453| 4.0|0.6931471805599453| 5.0| 3.0| 4.0|  5.0|     GB|            1.0|\n",
       " 3.0| 5.0| 3.0| 4.0| 3.0| 3.0| 2.0| 5.0| 1.0|  5.0| 2.0| 3.0| 4.0| 1.0| 3.0| 1.0| 2.0| 1.0| 3.0|  1.0| 1.0| 4.0| 1.0| 5.0| 1.0| 5.0| 3.0| 4.0| 5.0|  3.0| 3.0| 2.0| 5.0| 3.0| 3.0| 1.0| 3.0| 3.0| 5.0|  3.0| 1.0|1.0986122886681096| 4.0|1.0986122886681096| 3.0|0.6931471805599453| 4.0| 2.0| 5.0|  3.0|     MY|           10.0|\n",
       " 2.0| 3.0| 4.0| 4.0| 3.0| 2.0| 1.0| 3.0| 2.0|  5.0| 4.0| 4.0| 4.0| 2.0| 2.0| 2.0| 2.0| 2.0| 1.0|  3.0| 1.0| 4.0| 1.0| 4.0| 2.0| 4.0| 1.0| 4.0| 4.0|  3.0| 4.0| 2.0| 2.0| 2.0| 3.0| 3.0| 4.0| 2.0| 4.0|  2.0| 5.0|0.6931471805599453| 2.0|0.6931471805599453| 4.0|1.0986122886681096| 5.0| 3.0| 4.0|  4.0|     GB|            1.0|\n",
       " 2.0| 2.0| 2.0| 3.0| 4.0| 2.0| 2.0| 4.0| 1.0|  4.0| 3.0| 3.0| 3.0| 2.0| 3.0| 2.0| 2.0| 2.0| 4.0|  3.0| 2.0| 4.0| 3.0| 4.0| 2.0| 4.0| 2.0| 4.0| 3.0|  4.0| 2.0| 4.0| 4.0| 4.0| 1.0| 2.0| 2.0| 3.0| 1.0|  4.0| 4.0|1.0986122886681096| 5.0|1.0986122886681096| 3.0|0.6931471805599453| 4.0| 4.0| 3.0|  3.0|     GB|            1.0|\n",
       " 3.0| 3.0| 3.0| 3.0| 5.0| 3.0| 3.0| 5.0| 3.0|  4.0| 1.0| 5.0| 5.0| 3.0| 1.0| 1.0| 1.0| 1.0| 3.0|  2.0| 1.0| 5.0| 1.0| 5.0| 1.0| 3.0| 1.0| 5.0| 5.0|  3.0| 5.0| 1.0| 5.0| 1.0| 3.0| 1.0| 5.0| 1.0| 5.0|  5.0| 5.0|0.6931471805599453| 5.0|0.6931471805599453| 5.0|0.6931471805599453| 5.0| 3.0| 5.0|  5.0|     KE|           49.0|\n",
       " 3.0| 3.0| 4.0| 2.0| 4.0| 2.0| 2.0| 3.0| 3.0|  4.0| 3.0| 4.0| 3.0| 2.0| 2.0| 1.0| 2.0| 1.0| 2.0|  2.0| 2.0| 3.0| 1.0| 4.0| 2.0| 3.0| 2.0| 3.0| 4.0|  4.0| 3.0| 2.0| 4.0| 1.0| 3.0| 2.0| 4.0| 3.0| 4.0|  3.0| 5.0|0.6931471805599453| 5.0|0.6931471805599453| 3.0|0.6931471805599453| 5.0| 4.0| 5.0|  2.0|     SE|           12.0|\n",
       " 4.0| 3.0| 4.0| 3.0| 3.0| 3.0| 5.0| 3.0| 4.0|  3.0| 2.0| 4.0| 4.0| 2.0| 4.0| 2.0| 2.0| 2.0| 4.0|  4.0| 1.0| 2.0| 1.0| 5.0| 3.0| 5.0| 3.0| 4.0| 4.0|  5.0| 3.0| 2.0| 4.0| 2.0| 1.0| 4.0| 4.0| 2.0| 2.0|  5.0| 5.0|1.0986122886681096| 4.0|1.3862943611198906| 4.0|0.6931471805599453| 5.0| 5.0| 4.0|  4.0|     US|            0.0|\n",
       " 3.0| 1.0| 5.0| 2.0| 5.0| 2.0| 5.0| 2.0| 3.0|  2.0| 2.0| 4.0| 2.0| 4.0| 2.0| 1.0| 2.0| 1.0| 1.0|  1.0| 2.0| 5.0| 2.0| 4.0| 3.0| 2.0| 2.0| 4.0| 4.0|  4.0| 5.0| 1.0| 5.0| 1.0| 4.0| 2.0| 3.0| 2.0| 5.0|  5.0| 4.0|0.6931471805599453| 3.0|0.6931471805599453| 5.0|0.6931471805599453| 4.0| 3.0| 4.0|  5.0|     MY|           10.0|\n",
       " 2.0| 2.0| 3.0| 3.0| 4.0| 2.0| 2.0| 2.0| 4.0|  4.0| 3.0| 4.0| 4.0| 1.0| 2.0| 2.0| 3.0| 2.0| 3.0|  4.0| 1.0| 5.0| 1.0| 5.0| 1.0| 3.0| 1.0| 4.0| 4.0|  4.0| 3.0| 3.0| 4.0| 0.0| 3.0| 4.0| 1.0| 2.0| 1.0|  4.0| 4.0|0.6931471805599453| 5.0|0.6931471805599453| 4.0|0.6931471805599453| 5.0| 2.0| 5.0|  5.0|     GB|            1.0|\n",
       " 1.0| 5.0| 3.0| 5.0| 2.0| 3.0| 2.0| 4.0| 5.0|  4.0| 3.0| 3.0| 3.0| 3.0| 4.0| 3.0| 3.0| 3.0| 3.0|  3.0| 5.0| 3.0| 5.0| 1.0| 5.0| 3.0| 4.0| 2.0| 3.0|  2.0| 2.0| 5.0| 1.0| 5.0| 1.0| 4.0| 3.0| 4.0| 2.0|  2.0| 3.0|0.6931471805599453| 3.0|0.6931471805599453| 3.0|1.3862943611198906| 4.0| 3.0| 3.0|  3.0|     FI|           23.0|\n",
       " 3.0| 3.0| 2.0| 3.0| 3.0| 2.0| 4.0| 3.0| 3.0|  5.0| 4.0| 3.0| 4.0| 1.0| 2.0| 3.0| 5.0| 4.0| 4.0|  5.0| 2.0| 5.0| 3.0| 4.0| 2.0| 3.0| 1.0| 3.0| 4.0|  2.0| 1.0| 5.0| 5.0| 5.0| 1.0| 5.0| 3.0| 1.0| 1.0|  5.0| 5.0|0.6931471805599453| 5.0|0.6931471805599453| 5.0|0.6931471805599453| 5.0| 5.0| 5.0|  5.0|     UA|           63.0|\n",
       " 3.0| 1.0| 5.0| 3.0| 5.0| 1.0| 5.0| 5.0| 5.0|  3.0| 5.0| 1.0| 3.0| 1.0| 5.0| 5.0| 5.0| 5.0| 5.0|  3.0| 2.0| 5.0| 5.0| 3.0| 3.0| 5.0| 3.0| 5.0| 5.0|  5.0| 5.0| 5.0| 5.0| 3.0| 5.0| 5.0| 5.0| 3.0| 3.0|  5.0| 4.0|0.6931471805599453| 5.0|0.6931471805599453| 5.0|1.3862943611198906| 1.0| 5.0| 5.0|  5.0|     PH|            4.0|\n",
       " 4.0| 1.0| 5.0| 4.0| 5.0| 1.0| 4.0| 1.0| 5.0|  2.0| 1.0| 5.0| 1.0| 2.0| 1.0| 1.0| 5.0| 4.0| 1.0|  5.0| 1.0| 5.0| 2.0| 5.0| 1.0| 4.0| 1.0| 5.0| 5.0|  5.0| 2.0| 4.0| 5.0| 4.0| 2.0| 3.0| 1.0| 4.0| 1.0|  2.0| 5.0|0.6931471805599453| 5.0|0.6931471805599453| 4.0|0.6931471805599453| 5.0| 5.0| 5.0|  5.0|     FR|           17.0|\n",
       " 1.0| 5.0| 1.0| 5.0| 1.0| 5.0| 1.0| 5.0| 1.0|  5.0| 5.0| 1.0| 5.0| 1.0| 4.0| 5.0| 3.0| 3.0| 4.0|  5.0| 2.0| 2.0| 2.0| 3.0| 3.0| 3.0| 3.0| 0.0| 3.0|  1.0| 3.0| 2.0| 5.0| 3.0| 4.0| 1.0| 5.0| 3.0| 4.0|  3.0| 5.0|0.6931471805599453| 4.0|0.6931471805599453| 2.0|1.0986122886681096| 4.0| 5.0| 5.0|  3.0|     GB|            1.0|\n",
       " 1.0| 5.0| 2.0| 5.0| 1.0| 4.0| 1.0| 2.0| 2.0|  5.0| 4.0| 3.0| 5.0| 1.0| 4.0| 4.0| 4.0| 2.0| 4.0|  5.0| 2.0| 5.0| 4.0| 5.0| 1.0| 5.0| 2.0| 4.0| 5.0|  5.0| 4.0| 4.0| 2.0| 4.0| 2.0| 3.0| 4.0| 1.0| 4.0|  5.0| 5.0|1.6094379124341003| 5.0| 1.791759469228055| 4.0|0.6931471805599453| 4.0| 4.0| 5.0|  5.0|     AU|            3.0|\n",
       " 2.0| 1.0| 3.0| 4.0| 4.0| 3.0| 5.0| 3.0| 3.0|  5.0| 4.0| 2.0| 3.0| 3.0| 3.0| 4.0| 3.0| 3.0| 5.0|  5.0| 5.0| 5.0| 5.0| 5.0| 2.0| 3.0| 3.0| 3.0| 4.0|  5.0| 3.0| 3.0| 4.0| 4.0| 4.0| 2.0| 3.0| 3.0| 4.0|  5.0| 5.0|1.0986122886681096| 5.0|1.3862943611198906| 4.0|0.6931471805599453| 3.0| 3.0| 5.0|  5.0|     IN|            5.0|\n",
       " 1.0| 4.0| 2.0| 4.0| 2.0| 3.0| 2.0| 4.0| 2.0|  4.0| 4.0| 3.0| 4.0| 2.0| 4.0| 4.0| 3.0| 3.0| 4.0|  4.0| 2.0| 3.0| 3.0| 3.0| 3.0| 4.0| 3.0| 4.0| 4.0|  3.0| 2.0| 2.0| 3.0| 3.0| 2.0| 4.0| 3.0| 2.0| 2.0|  3.0| 4.0|1.0986122886681096| 4.0|1.3862943611198906| 4.0|1.0986122886681096| 4.0| 3.0| 4.0|  4.0|     CA|            2.0|\n",
       " 4.0| 1.0| 5.0| 2.0| 4.0| 2.0| 3.0| 2.0| 4.0|  2.0| 1.0| 4.0| 3.0| 5.0| 3.0| 2.0| 3.0| 2.0| 2.0|  1.0| 4.0| 5.0| 1.0| 5.0| 2.0| 4.0| 2.0| 4.0| 4.0|  4.0| 3.0| 3.0| 4.0| 4.0| 2.0| 3.0| 4.0| 3.0| 2.0|  3.0| 3.0|1.3862943611198906| 4.0|1.3862943611198906| 3.0|1.6094379124341003| 3.0| 2.0| 2.0|  3.0|     NL|           13.0|\n",
       " 4.0| 2.0| 5.0| 3.0| 4.0| 4.0| 5.0| 2.0| 5.0|  2.0| 2.0| 5.0| 4.0| 4.0| 3.0| 4.0| 2.0| 1.0| 1.0|  1.0| 1.0| 5.0| 1.0| 5.0| 1.0| 5.0| 1.0| 5.0| 5.0|  4.0| 0.0| 3.0| 5.0| 3.0| 1.0| 5.0| 3.0| 2.0| 1.0|  2.0| 4.0|0.6931471805599453| 5.0|0.6931471805599453| 3.0| 1.791759469228055| 4.0| 2.0| 5.0|  3.0|     ZA|           26.0|\n",
       " 5.0| 1.0| 5.0| 2.0| 5.0| 1.0| 5.0| 3.0| 5.0|  4.0| 4.0| 1.0| 4.0| 2.0| 4.0| 4.0| 4.0| 4.0| 5.0|  4.0| 3.0| 3.0| 4.0| 3.0| 2.0| 5.0| 1.0| 4.0| 4.0|  4.0| 4.0| 1.0| 5.0| 1.0| 5.0| 5.0| 5.0| 1.0| 5.0|  5.0| 4.0| 1.791759469228055| 3.0| 1.791759469228055| 4.0|1.3862943611198906| 5.0| 4.0| 2.0|  3.0|     HK|           28.0|\n",
       "+----+----+----+----+----+----+----+----+----+-----+----+----+----+----+----+----+----+----+----+-----+----+----+----+----+----+----+----+----+----+-----+----+----+----+----+----+----+----+----+----+-----+----+------------------+----+------------------+----+------------------+----+----+----+-----+-------+---------------+\n",
       "only showing top 20 rows\n",
       "\n",
       "</div>"
      ]
     },
     "metadata": {
      "application/vnd.databricks.v1+output": {
       "addedWidgets": {},
       "arguments": {},
       "data": "<div class=\"ansiout\">+----+----+----+----+----+----+----+----+----+-----+----+----+----+----+----+----+----+----+----+-----+----+----+----+----+----+----+----+----+----+-----+----+----+----+----+----+----+----+----+----+-----+----+------------------+----+------------------+----+------------------+----+----+----+-----+-------+---------------+\n|EXT1|EXT2|EXT3|EXT4|EXT5|EXT6|EXT7|EXT8|EXT9|EXT10|EST1|EST2|EST3|EST4|EST5|EST6|EST7|EST8|EST9|EST10|AGR1|AGR2|AGR3|AGR4|AGR5|AGR6|AGR7|AGR8|AGR9|AGR10|CSN1|CSN2|CSN3|CSN4|CSN5|CSN6|CSN7|CSN8|CSN9|CSN10|OPN1|              OPN2|OPN3|              OPN4|OPN5|              OPN6|OPN7|OPN8|OPN9|OPN10|country|country_indexed|\n+----+----+----+----+----+----+----+----+----+-----+----+----+----+----+----+----+----+----+----+-----+----+----+----+----+----+----+----+----+----+-----+----+----+----+----+----+----+----+----+----+-----+----+------------------+----+------------------+----+------------------+----+----+----+-----+-------+---------------+\n| 4.0| 1.0| 5.0| 2.0| 5.0| 1.0| 5.0| 2.0| 4.0|  1.0| 1.0| 4.0| 4.0| 2.0| 2.0| 2.0| 2.0| 2.0| 3.0|  2.0| 2.0| 5.0| 2.0| 4.0| 2.0| 3.0| 2.0| 4.0| 3.0|  4.0| 3.0| 4.0| 3.0| 2.0| 2.0| 4.0| 4.0| 2.0| 4.0|  4.0| 5.0|0.6931471805599453| 4.0|0.6931471805599453| 4.0|0.6931471805599453| 5.0| 3.0| 4.0|  5.0|     GB|            1.0|\n| 3.0| 5.0| 3.0| 4.0| 3.0| 3.0| 2.0| 5.0| 1.0|  5.0| 2.0| 3.0| 4.0| 1.0| 3.0| 1.0| 2.0| 1.0| 3.0|  1.0| 1.0| 4.0| 1.0| 5.0| 1.0| 5.0| 3.0| 4.0| 5.0|  3.0| 3.0| 2.0| 5.0| 3.0| 3.0| 1.0| 3.0| 3.0| 5.0|  3.0| 1.0|1.0986122886681096| 4.0|1.0986122886681096| 3.0|0.6931471805599453| 4.0| 2.0| 5.0|  3.0|     MY|           10.0|\n| 2.0| 3.0| 4.0| 4.0| 3.0| 2.0| 1.0| 3.0| 2.0|  5.0| 4.0| 4.0| 4.0| 2.0| 2.0| 2.0| 2.0| 2.0| 1.0|  3.0| 1.0| 4.0| 1.0| 4.0| 2.0| 4.0| 1.0| 4.0| 4.0|  3.0| 4.0| 2.0| 2.0| 2.0| 3.0| 3.0| 4.0| 2.0| 4.0|  2.0| 5.0|0.6931471805599453| 2.0|0.6931471805599453| 4.0|1.0986122886681096| 5.0| 3.0| 4.0|  4.0|     GB|            1.0|\n| 2.0| 2.0| 2.0| 3.0| 4.0| 2.0| 2.0| 4.0| 1.0|  4.0| 3.0| 3.0| 3.0| 2.0| 3.0| 2.0| 2.0| 2.0| 4.0|  3.0| 2.0| 4.0| 3.0| 4.0| 2.0| 4.0| 2.0| 4.0| 3.0|  4.0| 2.0| 4.0| 4.0| 4.0| 1.0| 2.0| 2.0| 3.0| 1.0|  4.0| 4.0|1.0986122886681096| 5.0|1.0986122886681096| 3.0|0.6931471805599453| 4.0| 4.0| 3.0|  3.0|     GB|            1.0|\n| 3.0| 3.0| 3.0| 3.0| 5.0| 3.0| 3.0| 5.0| 3.0|  4.0| 1.0| 5.0| 5.0| 3.0| 1.0| 1.0| 1.0| 1.0| 3.0|  2.0| 1.0| 5.0| 1.0| 5.0| 1.0| 3.0| 1.0| 5.0| 5.0|  3.0| 5.0| 1.0| 5.0| 1.0| 3.0| 1.0| 5.0| 1.0| 5.0|  5.0| 5.0|0.6931471805599453| 5.0|0.6931471805599453| 5.0|0.6931471805599453| 5.0| 3.0| 5.0|  5.0|     KE|           49.0|\n| 3.0| 3.0| 4.0| 2.0| 4.0| 2.0| 2.0| 3.0| 3.0|  4.0| 3.0| 4.0| 3.0| 2.0| 2.0| 1.0| 2.0| 1.0| 2.0|  2.0| 2.0| 3.0| 1.0| 4.0| 2.0| 3.0| 2.0| 3.0| 4.0|  4.0| 3.0| 2.0| 4.0| 1.0| 3.0| 2.0| 4.0| 3.0| 4.0|  3.0| 5.0|0.6931471805599453| 5.0|0.6931471805599453| 3.0|0.6931471805599453| 5.0| 4.0| 5.0|  2.0|     SE|           12.0|\n| 4.0| 3.0| 4.0| 3.0| 3.0| 3.0| 5.0| 3.0| 4.0|  3.0| 2.0| 4.0| 4.0| 2.0| 4.0| 2.0| 2.0| 2.0| 4.0|  4.0| 1.0| 2.0| 1.0| 5.0| 3.0| 5.0| 3.0| 4.0| 4.0|  5.0| 3.0| 2.0| 4.0| 2.0| 1.0| 4.0| 4.0| 2.0| 2.0|  5.0| 5.0|1.0986122886681096| 4.0|1.3862943611198906| 4.0|0.6931471805599453| 5.0| 5.0| 4.0|  4.0|     US|            0.0|\n| 3.0| 1.0| 5.0| 2.0| 5.0| 2.0| 5.0| 2.0| 3.0|  2.0| 2.0| 4.0| 2.0| 4.0| 2.0| 1.0| 2.0| 1.0| 1.0|  1.0| 2.0| 5.0| 2.0| 4.0| 3.0| 2.0| 2.0| 4.0| 4.0|  4.0| 5.0| 1.0| 5.0| 1.0| 4.0| 2.0| 3.0| 2.0| 5.0|  5.0| 4.0|0.6931471805599453| 3.0|0.6931471805599453| 5.0|0.6931471805599453| 4.0| 3.0| 4.0|  5.0|     MY|           10.0|\n| 2.0| 2.0| 3.0| 3.0| 4.0| 2.0| 2.0| 2.0| 4.0|  4.0| 3.0| 4.0| 4.0| 1.0| 2.0| 2.0| 3.0| 2.0| 3.0|  4.0| 1.0| 5.0| 1.0| 5.0| 1.0| 3.0| 1.0| 4.0| 4.0|  4.0| 3.0| 3.0| 4.0| 0.0| 3.0| 4.0| 1.0| 2.0| 1.0|  4.0| 4.0|0.6931471805599453| 5.0|0.6931471805599453| 4.0|0.6931471805599453| 5.0| 2.0| 5.0|  5.0|     GB|            1.0|\n| 1.0| 5.0| 3.0| 5.0| 2.0| 3.0| 2.0| 4.0| 5.0|  4.0| 3.0| 3.0| 3.0| 3.0| 4.0| 3.0| 3.0| 3.0| 3.0|  3.0| 5.0| 3.0| 5.0| 1.0| 5.0| 3.0| 4.0| 2.0| 3.0|  2.0| 2.0| 5.0| 1.0| 5.0| 1.0| 4.0| 3.0| 4.0| 2.0|  2.0| 3.0|0.6931471805599453| 3.0|0.6931471805599453| 3.0|1.3862943611198906| 4.0| 3.0| 3.0|  3.0|     FI|           23.0|\n| 3.0| 3.0| 2.0| 3.0| 3.0| 2.0| 4.0| 3.0| 3.0|  5.0| 4.0| 3.0| 4.0| 1.0| 2.0| 3.0| 5.0| 4.0| 4.0|  5.0| 2.0| 5.0| 3.0| 4.0| 2.0| 3.0| 1.0| 3.0| 4.0|  2.0| 1.0| 5.0| 5.0| 5.0| 1.0| 5.0| 3.0| 1.0| 1.0|  5.0| 5.0|0.6931471805599453| 5.0|0.6931471805599453| 5.0|0.6931471805599453| 5.0| 5.0| 5.0|  5.0|     UA|           63.0|\n| 3.0| 1.0| 5.0| 3.0| 5.0| 1.0| 5.0| 5.0| 5.0|  3.0| 5.0| 1.0| 3.0| 1.0| 5.0| 5.0| 5.0| 5.0| 5.0|  3.0| 2.0| 5.0| 5.0| 3.0| 3.0| 5.0| 3.0| 5.0| 5.0|  5.0| 5.0| 5.0| 5.0| 3.0| 5.0| 5.0| 5.0| 3.0| 3.0|  5.0| 4.0|0.6931471805599453| 5.0|0.6931471805599453| 5.0|1.3862943611198906| 1.0| 5.0| 5.0|  5.0|     PH|            4.0|\n| 4.0| 1.0| 5.0| 4.0| 5.0| 1.0| 4.0| 1.0| 5.0|  2.0| 1.0| 5.0| 1.0| 2.0| 1.0| 1.0| 5.0| 4.0| 1.0|  5.0| 1.0| 5.0| 2.0| 5.0| 1.0| 4.0| 1.0| 5.0| 5.0|  5.0| 2.0| 4.0| 5.0| 4.0| 2.0| 3.0| 1.0| 4.0| 1.0|  2.0| 5.0|0.6931471805599453| 5.0|0.6931471805599453| 4.0|0.6931471805599453| 5.0| 5.0| 5.0|  5.0|     FR|           17.0|\n| 1.0| 5.0| 1.0| 5.0| 1.0| 5.0| 1.0| 5.0| 1.0|  5.0| 5.0| 1.0| 5.0| 1.0| 4.0| 5.0| 3.0| 3.0| 4.0|  5.0| 2.0| 2.0| 2.0| 3.0| 3.0| 3.0| 3.0| 0.0| 3.0|  1.0| 3.0| 2.0| 5.0| 3.0| 4.0| 1.0| 5.0| 3.0| 4.0|  3.0| 5.0|0.6931471805599453| 4.0|0.6931471805599453| 2.0|1.0986122886681096| 4.0| 5.0| 5.0|  3.0|     GB|            1.0|\n| 1.0| 5.0| 2.0| 5.0| 1.0| 4.0| 1.0| 2.0| 2.0|  5.0| 4.0| 3.0| 5.0| 1.0| 4.0| 4.0| 4.0| 2.0| 4.0|  5.0| 2.0| 5.0| 4.0| 5.0| 1.0| 5.0| 2.0| 4.0| 5.0|  5.0| 4.0| 4.0| 2.0| 4.0| 2.0| 3.0| 4.0| 1.0| 4.0|  5.0| 5.0|1.6094379124341003| 5.0| 1.791759469228055| 4.0|0.6931471805599453| 4.0| 4.0| 5.0|  5.0|     AU|            3.0|\n| 2.0| 1.0| 3.0| 4.0| 4.0| 3.0| 5.0| 3.0| 3.0|  5.0| 4.0| 2.0| 3.0| 3.0| 3.0| 4.0| 3.0| 3.0| 5.0|  5.0| 5.0| 5.0| 5.0| 5.0| 2.0| 3.0| 3.0| 3.0| 4.0|  5.0| 3.0| 3.0| 4.0| 4.0| 4.0| 2.0| 3.0| 3.0| 4.0|  5.0| 5.0|1.0986122886681096| 5.0|1.3862943611198906| 4.0|0.6931471805599453| 3.0| 3.0| 5.0|  5.0|     IN|            5.0|\n| 1.0| 4.0| 2.0| 4.0| 2.0| 3.0| 2.0| 4.0| 2.0|  4.0| 4.0| 3.0| 4.0| 2.0| 4.0| 4.0| 3.0| 3.0| 4.0|  4.0| 2.0| 3.0| 3.0| 3.0| 3.0| 4.0| 3.0| 4.0| 4.0|  3.0| 2.0| 2.0| 3.0| 3.0| 2.0| 4.0| 3.0| 2.0| 2.0|  3.0| 4.0|1.0986122886681096| 4.0|1.3862943611198906| 4.0|1.0986122886681096| 4.0| 3.0| 4.0|  4.0|     CA|            2.0|\n| 4.0| 1.0| 5.0| 2.0| 4.0| 2.0| 3.0| 2.0| 4.0|  2.0| 1.0| 4.0| 3.0| 5.0| 3.0| 2.0| 3.0| 2.0| 2.0|  1.0| 4.0| 5.0| 1.0| 5.0| 2.0| 4.0| 2.0| 4.0| 4.0|  4.0| 3.0| 3.0| 4.0| 4.0| 2.0| 3.0| 4.0| 3.0| 2.0|  3.0| 3.0|1.3862943611198906| 4.0|1.3862943611198906| 3.0|1.6094379124341003| 3.0| 2.0| 2.0|  3.0|     NL|           13.0|\n| 4.0| 2.0| 5.0| 3.0| 4.0| 4.0| 5.0| 2.0| 5.0|  2.0| 2.0| 5.0| 4.0| 4.0| 3.0| 4.0| 2.0| 1.0| 1.0|  1.0| 1.0| 5.0| 1.0| 5.0| 1.0| 5.0| 1.0| 5.0| 5.0|  4.0| 0.0| 3.0| 5.0| 3.0| 1.0| 5.0| 3.0| 2.0| 1.0|  2.0| 4.0|0.6931471805599453| 5.0|0.6931471805599453| 3.0| 1.791759469228055| 4.0| 2.0| 5.0|  3.0|     ZA|           26.0|\n| 5.0| 1.0| 5.0| 2.0| 5.0| 1.0| 5.0| 3.0| 5.0|  4.0| 4.0| 1.0| 4.0| 2.0| 4.0| 4.0| 4.0| 4.0| 5.0|  4.0| 3.0| 3.0| 4.0| 3.0| 2.0| 5.0| 1.0| 4.0| 4.0|  4.0| 4.0| 1.0| 5.0| 1.0| 5.0| 5.0| 5.0| 1.0| 5.0|  5.0| 4.0| 1.791759469228055| 3.0| 1.791759469228055| 4.0|1.3862943611198906| 5.0| 4.0| 2.0|  3.0|     HK|           28.0|\n+----+----+----+----+----+----+----+----+----+-----+----+----+----+----+----+----+----+----+----+-----+----+----+----+----+----+----+----+----+----+-----+----+----+----+----+----+----+----+----+----+-----+----+------------------+----+------------------+----+------------------+----+----+----+-----+-------+---------------+\nonly showing top 20 rows\n\n</div>",
       "datasetInfos": [],
       "removedWidgets": [],
       "type": "html"
      }
     },
     "output_type": "display_data"
    }
   ],
   "source": [
    "td.show()"
   ]
  },
  {
   "cell_type": "code",
   "execution_count": 0,
   "metadata": {
    "application/vnd.databricks.v1+cell": {
     "inputWidgets": {},
     "nuid": "745f8f68-c934-4e45-a98e-2b2b8070fd5f",
     "showTitle": false,
     "title": ""
    }
   },
   "outputs": [
    {
     "data": {
      "text/html": [
       "<style scoped>\n",
       "  .ansiout {\n",
       "    display: block;\n",
       "    unicode-bidi: embed;\n",
       "    white-space: pre-wrap;\n",
       "    word-wrap: break-word;\n",
       "    word-break: break-all;\n",
       "    font-family: \"Source Code Pro\", \"Menlo\", monospace;;\n",
       "    font-size: 13px;\n",
       "    color: #555;\n",
       "    margin-left: 4px;\n",
       "    line-height: 19px;\n",
       "  }\n",
       "</style>\n",
       "<div class=\"ansiout\"></div>"
      ]
     },
     "metadata": {
      "application/vnd.databricks.v1+output": {
       "addedWidgets": {},
       "arguments": {},
       "data": "<div class=\"ansiout\"></div>",
       "datasetInfos": [],
       "removedWidgets": [],
       "type": "html"
      }
     },
     "output_type": "display_data"
    }
   ],
   "source": [
    "# encoder = OneHotEncoder(inputCols=[feat+\"_indexed\" for feat in categorical_feats], outputCols=[feat+\"_ohe\" for feat in categorical_feats])\n",
    "# model = encoder.fit(td)\n",
    "# encoded = model.transform(td)"
   ]
  },
  {
   "cell_type": "code",
   "execution_count": 0,
   "metadata": {
    "application/vnd.databricks.v1+cell": {
     "inputWidgets": {},
     "nuid": "cd36eeca-f88f-4612-a727-f1f4e13d9768",
     "showTitle": false,
     "title": ""
    }
   },
   "outputs": [
    {
     "data": {
      "text/html": [
       "<style scoped>\n",
       "  .ansiout {\n",
       "    display: block;\n",
       "    unicode-bidi: embed;\n",
       "    white-space: pre-wrap;\n",
       "    word-wrap: break-word;\n",
       "    word-break: break-all;\n",
       "    font-family: \"Source Code Pro\", \"Menlo\", monospace;;\n",
       "    font-size: 13px;\n",
       "    color: #555;\n",
       "    margin-left: 4px;\n",
       "    line-height: 19px;\n",
       "  }\n",
       "</style>\n",
       "<div class=\"ansiout\"></div>"
      ]
     },
     "metadata": {
      "application/vnd.databricks.v1+output": {
       "addedWidgets": {},
       "arguments": {},
       "data": "<div class=\"ansiout\"></div>",
       "datasetInfos": [],
       "removedWidgets": [],
       "type": "html"
      }
     },
     "output_type": "display_data"
    },
    {
     "data": {
      "text/html": [
       "<style scoped>\n",
       "  .ansiout {\n",
       "    display: block;\n",
       "    unicode-bidi: embed;\n",
       "    white-space: pre-wrap;\n",
       "    word-wrap: break-word;\n",
       "    word-break: break-all;\n",
       "    font-family: \"Source Code Pro\", \"Menlo\", monospace;;\n",
       "    font-size: 13px;\n",
       "    color: #555;\n",
       "    margin-left: 4px;\n",
       "    line-height: 19px;\n",
       "  }\n",
       "</style>\n",
       "<div class=\"ansiout\"><span class=\"ansi-red-fg\">---------------------------------------------------------------------------</span>\n",
       "<span class=\"ansi-red-fg\">NameError</span>                                 Traceback (most recent call last)\n",
       "<span class=\"ansi-green-fg\">&lt;command-1780866739425419&gt;</span> in <span class=\"ansi-cyan-fg\">&lt;module&gt;</span>\n",
       "<span class=\"ansi-green-intense-fg ansi-bold\">      5</span> \n",
       "<span class=\"ansi-green-intense-fg ansi-bold\">      6</span> assembler <span class=\"ansi-blue-fg\">=</span> VectorAssembler<span class=\"ansi-blue-fg\">(</span>inputCols<span class=\"ansi-blue-fg\">=</span>updated_feats<span class=\"ansi-blue-fg\">,</span> outputCol<span class=\"ansi-blue-fg\">=</span><span class=\"ansi-blue-fg\">&#39;features&#39;</span><span class=\"ansi-blue-fg\">)</span>\n",
       "<span class=\"ansi-green-fg\">----&gt; 7</span><span class=\"ansi-red-fg\"> </span>output <span class=\"ansi-blue-fg\">=</span> assembler<span class=\"ansi-blue-fg\">.</span>transform<span class=\"ansi-blue-fg\">(</span>encoded<span class=\"ansi-blue-fg\">)</span>\n",
       "<span class=\"ansi-green-intense-fg ansi-bold\">      8</span> \n",
       "<span class=\"ansi-green-intense-fg ansi-bold\">      9</span> output<span class=\"ansi-blue-fg\">.</span>show<span class=\"ansi-blue-fg\">(</span><span class=\"ansi-blue-fg\">)</span>\n",
       "\n",
       "<span class=\"ansi-red-fg\">NameError</span>: name &#39;encoded&#39; is not defined</div>"
      ]
     },
     "metadata": {
      "application/vnd.databricks.v1+output": {
       "arguments": {},
       "data": "<div class=\"ansiout\"><span class=\"ansi-red-fg\">---------------------------------------------------------------------------</span>\n<span class=\"ansi-red-fg\">NameError</span>                                 Traceback (most recent call last)\n<span class=\"ansi-green-fg\">&lt;command-1780866739425419&gt;</span> in <span class=\"ansi-cyan-fg\">&lt;module&gt;</span>\n<span class=\"ansi-green-intense-fg ansi-bold\">      5</span> \n<span class=\"ansi-green-intense-fg ansi-bold\">      6</span> assembler <span class=\"ansi-blue-fg\">=</span> VectorAssembler<span class=\"ansi-blue-fg\">(</span>inputCols<span class=\"ansi-blue-fg\">=</span>updated_feats<span class=\"ansi-blue-fg\">,</span> outputCol<span class=\"ansi-blue-fg\">=</span><span class=\"ansi-blue-fg\">&#39;features&#39;</span><span class=\"ansi-blue-fg\">)</span>\n<span class=\"ansi-green-fg\">----&gt; 7</span><span class=\"ansi-red-fg\"> </span>output <span class=\"ansi-blue-fg\">=</span> assembler<span class=\"ansi-blue-fg\">.</span>transform<span class=\"ansi-blue-fg\">(</span>encoded<span class=\"ansi-blue-fg\">)</span>\n<span class=\"ansi-green-intense-fg ansi-bold\">      8</span> \n<span class=\"ansi-green-intense-fg ansi-bold\">      9</span> output<span class=\"ansi-blue-fg\">.</span>show<span class=\"ansi-blue-fg\">(</span><span class=\"ansi-blue-fg\">)</span>\n\n<span class=\"ansi-red-fg\">NameError</span>: name &#39;encoded&#39; is not defined</div>",
       "errorSummary": "<span class=\"ansi-red-fg\">NameError</span>: name &#39;encoded&#39; is not defined",
       "type": "ipynbError"
      }
     },
     "output_type": "display_data"
    }
   ],
   "source": [
    "# from pyspark.ml.feature import VectorAssembler\n",
    "\n",
    "# updated_feats = [feat+\"_ohe\" for feat in categorical_feats]\n",
    "# updated_feats += numeric_feats\n",
    "\n",
    "# assembler = VectorAssembler(inputCols=updated_feats, outputCol='features')\n",
    "# output = assembler.transform(td)\n",
    "\n",
    "# output.show()"
   ]
  },
  {
   "cell_type": "markdown",
   "metadata": {
    "application/vnd.databricks.v1+cell": {
     "inputWidgets": {},
     "nuid": "ca3a8861-791c-4791-87a4-2c26de7505ce",
     "showTitle": false,
     "title": ""
    }
   },
   "source": [
    "Convert the target variable back to integer 1~5."
   ]
  },
  {
   "cell_type": "code",
   "execution_count": 0,
   "metadata": {
    "application/vnd.databricks.v1+cell": {
     "inputWidgets": {},
     "nuid": "745a249a-59bd-48fd-aaa1-cbba34f5910f",
     "showTitle": false,
     "title": ""
    }
   },
   "outputs": [
    {
     "data": {
      "text/html": [
       "<style scoped>\n",
       "  .ansiout {\n",
       "    display: block;\n",
       "    unicode-bidi: embed;\n",
       "    white-space: pre-wrap;\n",
       "    word-wrap: break-word;\n",
       "    word-break: break-all;\n",
       "    font-family: \"Source Code Pro\", \"Menlo\", monospace;;\n",
       "    font-size: 13px;\n",
       "    color: #555;\n",
       "    margin-left: 4px;\n",
       "    line-height: 19px;\n",
       "  }\n",
       "</style>\n",
       "<div class=\"ansiout\">+----+\n",
       "EXT1|\n",
       "+----+\n",
       "   4|\n",
       "   3|\n",
       "   2|\n",
       "   2|\n",
       "   3|\n",
       "   3|\n",
       "   4|\n",
       "   3|\n",
       "   2|\n",
       "   1|\n",
       "   3|\n",
       "   3|\n",
       "   4|\n",
       "   1|\n",
       "   1|\n",
       "   2|\n",
       "   1|\n",
       "   4|\n",
       "   4|\n",
       "   5|\n",
       "+----+\n",
       "only showing top 20 rows\n",
       "\n",
       "</div>"
      ]
     },
     "metadata": {
      "application/vnd.databricks.v1+output": {
       "addedWidgets": {},
       "arguments": {},
       "data": "<div class=\"ansiout\">+----+\n|EXT1|\n+----+\n|   4|\n|   3|\n|   2|\n|   2|\n|   3|\n|   3|\n|   4|\n|   3|\n|   2|\n|   1|\n|   3|\n|   3|\n|   4|\n|   1|\n|   1|\n|   2|\n|   1|\n|   4|\n|   4|\n|   5|\n+----+\nonly showing top 20 rows\n\n</div>",
       "datasetInfos": [],
       "removedWidgets": [],
       "type": "html"
      }
     },
     "output_type": "display_data"
    }
   ],
   "source": [
    "from pyspark.sql.functions import when, lit\n",
    "import math\n",
    "# output = output.withColumn('EXT1', int(df['EXT1'])\n",
    "\n",
    "td_ = td.withColumn('EXT1', df['EXT1'].cast('int'))\n",
    "td_.select('EXT1').show()"
   ]
  },
  {
   "cell_type": "markdown",
   "metadata": {
    "application/vnd.databricks.v1+cell": {
     "inputWidgets": {},
     "nuid": "8b5210a8-ecf5-4954-8945-28244f9ae889",
     "showTitle": false,
     "title": ""
    }
   },
   "source": [
    "### Logistic Regression  \n",
    "By using all the numerical data, together with encoded nationality, predict the the answer of the first question \"I am the life of the party.\" in the questionnaire with logistic regression model"
   ]
  },
  {
   "cell_type": "code",
   "execution_count": 0,
   "metadata": {
    "application/vnd.databricks.v1+cell": {
     "inputWidgets": {},
     "nuid": "4fab2a1b-8f58-4e8b-a28d-91534f77ad2a",
     "showTitle": false,
     "title": ""
    }
   },
   "outputs": [
    {
     "data": {
      "text/html": [
       "<style scoped>\n",
       "  .ansiout {\n",
       "    display: block;\n",
       "    unicode-bidi: embed;\n",
       "    white-space: pre-wrap;\n",
       "    word-wrap: break-word;\n",
       "    word-break: break-all;\n",
       "    font-family: \"Source Code Pro\", \"Menlo\", monospace;;\n",
       "    font-size: 13px;\n",
       "    color: #555;\n",
       "    margin-left: 4px;\n",
       "    line-height: 19px;\n",
       "  }\n",
       "</style>\n",
       "<div class=\"ansiout\"></div>"
      ]
     },
     "metadata": {
      "application/vnd.databricks.v1+output": {
       "addedWidgets": {},
       "arguments": {},
       "data": "<div class=\"ansiout\"></div>",
       "datasetInfos": [],
       "removedWidgets": [],
       "type": "html"
      }
     },
     "output_type": "display_data"
    }
   ],
   "source": [
    "features_1 = [\"EXT2\" ,\"EXT3\" ,\"EXT4\" ,\"EXT5\" ,\"EXT6\" ,\"EXT7\" ,\"EXT8\" ,\"EXT9\" ,\"EXT10\",\n",
    "            \"EST1\" ,\"EST2\" ,\"EST3\" ,\"EST4\" ,\"EST5\" ,\"EST6\" ,\"EST7\" ,\"EST8\" ,\"EST9\" ,\"EST10\",\n",
    "            \"AGR1\" ,\"AGR2\" ,\"AGR3\" ,\"AGR4\" ,\"AGR5\" ,\"AGR6\" ,\"AGR7\" ,\"AGR8\" ,\"AGR9\" ,\"AGR10\",\n",
    "            \"CSN1\" ,\"CSN2\" ,\"CSN3\" ,\"CSN4\" ,\"CSN5\" ,\"CSN6\" ,\"CSN7\" ,\"CSN8\" ,\"CSN9\" ,\"CSN10\",\n",
    "            \"OPN1\" ,\"OPN2\" ,\"OPN3\" ,\"OPN4\" ,\"OPN5\" ,\"OPN6\" ,\"OPN7\" ,\"OPN8\" ,\"OPN9\" ,\"OPN10\", \"country_indexed\"\n",
    "           ]"
   ]
  },
  {
   "cell_type": "code",
   "execution_count": 0,
   "metadata": {
    "application/vnd.databricks.v1+cell": {
     "inputWidgets": {},
     "nuid": "d551d830-bca8-44f3-a6fc-5ff31113994b",
     "showTitle": false,
     "title": ""
    }
   },
   "outputs": [
    {
     "data": {
      "text/html": [
       "<style scoped>\n",
       "  .ansiout {\n",
       "    display: block;\n",
       "    unicode-bidi: embed;\n",
       "    white-space: pre-wrap;\n",
       "    word-wrap: break-word;\n",
       "    word-break: break-all;\n",
       "    font-family: \"Source Code Pro\", \"Menlo\", monospace;;\n",
       "    font-size: 13px;\n",
       "    color: #555;\n",
       "    margin-left: 4px;\n",
       "    line-height: 19px;\n",
       "  }\n",
       "</style>\n",
       "<div class=\"ansiout\">+----+----+----+----+----+----+----+----+----+-----+----+----+----+----+----+----+----+----+----+-----+----+----+----+----+----+----+----+----+----+-----+----+----+----+----+----+----+----+----+----+-----+----+------------------+----+------------------+----+------------------+----+----+----+-----+-------+---------------+--------------------+\n",
       "EXT1|EXT2|EXT3|EXT4|EXT5|EXT6|EXT7|EXT8|EXT9|EXT10|EST1|EST2|EST3|EST4|EST5|EST6|EST7|EST8|EST9|EST10|AGR1|AGR2|AGR3|AGR4|AGR5|AGR6|AGR7|AGR8|AGR9|AGR10|CSN1|CSN2|CSN3|CSN4|CSN5|CSN6|CSN7|CSN8|CSN9|CSN10|OPN1|              OPN2|OPN3|              OPN4|OPN5|              OPN6|OPN7|OPN8|OPN9|OPN10|country|country_indexed|            features|\n",
       "+----+----+----+----+----+----+----+----+----+-----+----+----+----+----+----+----+----+----+----+-----+----+----+----+----+----+----+----+----+----+-----+----+----+----+----+----+----+----+----+----+-----+----+------------------+----+------------------+----+------------------+----+----+----+-----+-------+---------------+--------------------+\n",
       "   4| 1.0| 5.0| 2.0| 5.0| 1.0| 5.0| 2.0| 4.0|  1.0| 1.0| 4.0| 4.0| 2.0| 2.0| 2.0| 2.0| 2.0| 3.0|  2.0| 2.0| 5.0| 2.0| 4.0| 2.0| 3.0| 2.0| 4.0| 3.0|  4.0| 3.0| 4.0| 3.0| 2.0| 2.0| 4.0| 4.0| 2.0| 4.0|  4.0| 5.0|0.6931471805599453| 4.0|0.6931471805599453| 4.0|0.6931471805599453| 5.0| 3.0| 4.0|  5.0|     GB|            1.0|[1.0,5.0,2.0,5.0,...|\n",
       "   3| 5.0| 3.0| 4.0| 3.0| 3.0| 2.0| 5.0| 1.0|  5.0| 2.0| 3.0| 4.0| 1.0| 3.0| 1.0| 2.0| 1.0| 3.0|  1.0| 1.0| 4.0| 1.0| 5.0| 1.0| 5.0| 3.0| 4.0| 5.0|  3.0| 3.0| 2.0| 5.0| 3.0| 3.0| 1.0| 3.0| 3.0| 5.0|  3.0| 1.0|1.0986122886681096| 4.0|1.0986122886681096| 3.0|0.6931471805599453| 4.0| 2.0| 5.0|  3.0|     MY|           10.0|[5.0,3.0,4.0,3.0,...|\n",
       "   2| 3.0| 4.0| 4.0| 3.0| 2.0| 1.0| 3.0| 2.0|  5.0| 4.0| 4.0| 4.0| 2.0| 2.0| 2.0| 2.0| 2.0| 1.0|  3.0| 1.0| 4.0| 1.0| 4.0| 2.0| 4.0| 1.0| 4.0| 4.0|  3.0| 4.0| 2.0| 2.0| 2.0| 3.0| 3.0| 4.0| 2.0| 4.0|  2.0| 5.0|0.6931471805599453| 2.0|0.6931471805599453| 4.0|1.0986122886681096| 5.0| 3.0| 4.0|  4.0|     GB|            1.0|[3.0,4.0,4.0,3.0,...|\n",
       "   2| 2.0| 2.0| 3.0| 4.0| 2.0| 2.0| 4.0| 1.0|  4.0| 3.0| 3.0| 3.0| 2.0| 3.0| 2.0| 2.0| 2.0| 4.0|  3.0| 2.0| 4.0| 3.0| 4.0| 2.0| 4.0| 2.0| 4.0| 3.0|  4.0| 2.0| 4.0| 4.0| 4.0| 1.0| 2.0| 2.0| 3.0| 1.0|  4.0| 4.0|1.0986122886681096| 5.0|1.0986122886681096| 3.0|0.6931471805599453| 4.0| 4.0| 3.0|  3.0|     GB|            1.0|[2.0,2.0,3.0,4.0,...|\n",
       "   3| 3.0| 3.0| 3.0| 5.0| 3.0| 3.0| 5.0| 3.0|  4.0| 1.0| 5.0| 5.0| 3.0| 1.0| 1.0| 1.0| 1.0| 3.0|  2.0| 1.0| 5.0| 1.0| 5.0| 1.0| 3.0| 1.0| 5.0| 5.0|  3.0| 5.0| 1.0| 5.0| 1.0| 3.0| 1.0| 5.0| 1.0| 5.0|  5.0| 5.0|0.6931471805599453| 5.0|0.6931471805599453| 5.0|0.6931471805599453| 5.0| 3.0| 5.0|  5.0|     KE|           49.0|[3.0,3.0,3.0,5.0,...|\n",
       "   3| 3.0| 4.0| 2.0| 4.0| 2.0| 2.0| 3.0| 3.0|  4.0| 3.0| 4.0| 3.0| 2.0| 2.0| 1.0| 2.0| 1.0| 2.0|  2.0| 2.0| 3.0| 1.0| 4.0| 2.0| 3.0| 2.0| 3.0| 4.0|  4.0| 3.0| 2.0| 4.0| 1.0| 3.0| 2.0| 4.0| 3.0| 4.0|  3.0| 5.0|0.6931471805599453| 5.0|0.6931471805599453| 3.0|0.6931471805599453| 5.0| 4.0| 5.0|  2.0|     SE|           12.0|[3.0,4.0,2.0,4.0,...|\n",
       "   4| 3.0| 4.0| 3.0| 3.0| 3.0| 5.0| 3.0| 4.0|  3.0| 2.0| 4.0| 4.0| 2.0| 4.0| 2.0| 2.0| 2.0| 4.0|  4.0| 1.0| 2.0| 1.0| 5.0| 3.0| 5.0| 3.0| 4.0| 4.0|  5.0| 3.0| 2.0| 4.0| 2.0| 1.0| 4.0| 4.0| 2.0| 2.0|  5.0| 5.0|1.0986122886681096| 4.0|1.3862943611198906| 4.0|0.6931471805599453| 5.0| 5.0| 4.0|  4.0|     US|            0.0|[3.0,4.0,3.0,3.0,...|\n",
       "   3| 1.0| 5.0| 2.0| 5.0| 2.0| 5.0| 2.0| 3.0|  2.0| 2.0| 4.0| 2.0| 4.0| 2.0| 1.0| 2.0| 1.0| 1.0|  1.0| 2.0| 5.0| 2.0| 4.0| 3.0| 2.0| 2.0| 4.0| 4.0|  4.0| 5.0| 1.0| 5.0| 1.0| 4.0| 2.0| 3.0| 2.0| 5.0|  5.0| 4.0|0.6931471805599453| 3.0|0.6931471805599453| 5.0|0.6931471805599453| 4.0| 3.0| 4.0|  5.0|     MY|           10.0|[1.0,5.0,2.0,5.0,...|\n",
       "   2| 2.0| 3.0| 3.0| 4.0| 2.0| 2.0| 2.0| 4.0|  4.0| 3.0| 4.0| 4.0| 1.0| 2.0| 2.0| 3.0| 2.0| 3.0|  4.0| 1.0| 5.0| 1.0| 5.0| 1.0| 3.0| 1.0| 4.0| 4.0|  4.0| 3.0| 3.0| 4.0| 0.0| 3.0| 4.0| 1.0| 2.0| 1.0|  4.0| 4.0|0.6931471805599453| 5.0|0.6931471805599453| 4.0|0.6931471805599453| 5.0| 2.0| 5.0|  5.0|     GB|            1.0|[2.0,3.0,3.0,4.0,...|\n",
       "   1| 5.0| 3.0| 5.0| 2.0| 3.0| 2.0| 4.0| 5.0|  4.0| 3.0| 3.0| 3.0| 3.0| 4.0| 3.0| 3.0| 3.0| 3.0|  3.0| 5.0| 3.0| 5.0| 1.0| 5.0| 3.0| 4.0| 2.0| 3.0|  2.0| 2.0| 5.0| 1.0| 5.0| 1.0| 4.0| 3.0| 4.0| 2.0|  2.0| 3.0|0.6931471805599453| 3.0|0.6931471805599453| 3.0|1.3862943611198906| 4.0| 3.0| 3.0|  3.0|     FI|           23.0|[5.0,3.0,5.0,2.0,...|\n",
       "   3| 3.0| 2.0| 3.0| 3.0| 2.0| 4.0| 3.0| 3.0|  5.0| 4.0| 3.0| 4.0| 1.0| 2.0| 3.0| 5.0| 4.0| 4.0|  5.0| 2.0| 5.0| 3.0| 4.0| 2.0| 3.0| 1.0| 3.0| 4.0|  2.0| 1.0| 5.0| 5.0| 5.0| 1.0| 5.0| 3.0| 1.0| 1.0|  5.0| 5.0|0.6931471805599453| 5.0|0.6931471805599453| 5.0|0.6931471805599453| 5.0| 5.0| 5.0|  5.0|     UA|           63.0|[3.0,2.0,3.0,3.0,...|\n",
       "   3| 1.0| 5.0| 3.0| 5.0| 1.0| 5.0| 5.0| 5.0|  3.0| 5.0| 1.0| 3.0| 1.0| 5.0| 5.0| 5.0| 5.0| 5.0|  3.0| 2.0| 5.0| 5.0| 3.0| 3.0| 5.0| 3.0| 5.0| 5.0|  5.0| 5.0| 5.0| 5.0| 3.0| 5.0| 5.0| 5.0| 3.0| 3.0|  5.0| 4.0|0.6931471805599453| 5.0|0.6931471805599453| 5.0|1.3862943611198906| 1.0| 5.0| 5.0|  5.0|     PH|            4.0|[1.0,5.0,3.0,5.0,...|\n",
       "   4| 1.0| 5.0| 4.0| 5.0| 1.0| 4.0| 1.0| 5.0|  2.0| 1.0| 5.0| 1.0| 2.0| 1.0| 1.0| 5.0| 4.0| 1.0|  5.0| 1.0| 5.0| 2.0| 5.0| 1.0| 4.0| 1.0| 5.0| 5.0|  5.0| 2.0| 4.0| 5.0| 4.0| 2.0| 3.0| 1.0| 4.0| 1.0|  2.0| 5.0|0.6931471805599453| 5.0|0.6931471805599453| 4.0|0.6931471805599453| 5.0| 5.0| 5.0|  5.0|     FR|           17.0|[1.0,5.0,4.0,5.0,...|\n",
       "   1| 5.0| 1.0| 5.0| 1.0| 5.0| 1.0| 5.0| 1.0|  5.0| 5.0| 1.0| 5.0| 1.0| 4.0| 5.0| 3.0| 3.0| 4.0|  5.0| 2.0| 2.0| 2.0| 3.0| 3.0| 3.0| 3.0| 0.0| 3.0|  1.0| 3.0| 2.0| 5.0| 3.0| 4.0| 1.0| 5.0| 3.0| 4.0|  3.0| 5.0|0.6931471805599453| 4.0|0.6931471805599453| 2.0|1.0986122886681096| 4.0| 5.0| 5.0|  3.0|     GB|            1.0|[5.0,1.0,5.0,1.0,...|\n",
       "   1| 5.0| 2.0| 5.0| 1.0| 4.0| 1.0| 2.0| 2.0|  5.0| 4.0| 3.0| 5.0| 1.0| 4.0| 4.0| 4.0| 2.0| 4.0|  5.0| 2.0| 5.0| 4.0| 5.0| 1.0| 5.0| 2.0| 4.0| 5.0|  5.0| 4.0| 4.0| 2.0| 4.0| 2.0| 3.0| 4.0| 1.0| 4.0|  5.0| 5.0|1.6094379124341003| 5.0| 1.791759469228055| 4.0|0.6931471805599453| 4.0| 4.0| 5.0|  5.0|     AU|            3.0|[5.0,2.0,5.0,1.0,...|\n",
       "   2| 1.0| 3.0| 4.0| 4.0| 3.0| 5.0| 3.0| 3.0|  5.0| 4.0| 2.0| 3.0| 3.0| 3.0| 4.0| 3.0| 3.0| 5.0|  5.0| 5.0| 5.0| 5.0| 5.0| 2.0| 3.0| 3.0| 3.0| 4.0|  5.0| 3.0| 3.0| 4.0| 4.0| 4.0| 2.0| 3.0| 3.0| 4.0|  5.0| 5.0|1.0986122886681096| 5.0|1.3862943611198906| 4.0|0.6931471805599453| 3.0| 3.0| 5.0|  5.0|     IN|            5.0|[1.0,3.0,4.0,4.0,...|\n",
       "   1| 4.0| 2.0| 4.0| 2.0| 3.0| 2.0| 4.0| 2.0|  4.0| 4.0| 3.0| 4.0| 2.0| 4.0| 4.0| 3.0| 3.0| 4.0|  4.0| 2.0| 3.0| 3.0| 3.0| 3.0| 4.0| 3.0| 4.0| 4.0|  3.0| 2.0| 2.0| 3.0| 3.0| 2.0| 4.0| 3.0| 2.0| 2.0|  3.0| 4.0|1.0986122886681096| 4.0|1.3862943611198906| 4.0|1.0986122886681096| 4.0| 3.0| 4.0|  4.0|     CA|            2.0|[4.0,2.0,4.0,2.0,...|\n",
       "   4| 1.0| 5.0| 2.0| 4.0| 2.0| 3.0| 2.0| 4.0|  2.0| 1.0| 4.0| 3.0| 5.0| 3.0| 2.0| 3.0| 2.0| 2.0|  1.0| 4.0| 5.0| 1.0| 5.0| 2.0| 4.0| 2.0| 4.0| 4.0|  4.0| 3.0| 3.0| 4.0| 4.0| 2.0| 3.0| 4.0| 3.0| 2.0|  3.0| 3.0|1.3862943611198906| 4.0|1.3862943611198906| 3.0|1.6094379124341003| 3.0| 2.0| 2.0|  3.0|     NL|           13.0|[1.0,5.0,2.0,4.0,...|\n",
       "   4| 2.0| 5.0| 3.0| 4.0| 4.0| 5.0| 2.0| 5.0|  2.0| 2.0| 5.0| 4.0| 4.0| 3.0| 4.0| 2.0| 1.0| 1.0|  1.0| 1.0| 5.0| 1.0| 5.0| 1.0| 5.0| 1.0| 5.0| 5.0|  4.0| 0.0| 3.0| 5.0| 3.0| 1.0| 5.0| 3.0| 2.0| 1.0|  2.0| 4.0|0.6931471805599453| 5.0|0.6931471805599453| 3.0| 1.791759469228055| 4.0| 2.0| 5.0|  3.0|     ZA|           26.0|[2.0,5.0,3.0,4.0,...|\n",
       "   5| 1.0| 5.0| 2.0| 5.0| 1.0| 5.0| 3.0| 5.0|  4.0| 4.0| 1.0| 4.0| 2.0| 4.0| 4.0| 4.0| 4.0| 5.0|  4.0| 3.0| 3.0| 4.0| 3.0| 2.0| 5.0| 1.0| 4.0| 4.0|  4.0| 4.0| 1.0| 5.0| 1.0| 5.0| 5.0| 5.0| 1.0| 5.0|  5.0| 4.0| 1.791759469228055| 3.0| 1.791759469228055| 4.0|1.3862943611198906| 5.0| 4.0| 2.0|  3.0|     HK|           28.0|[1.0,5.0,2.0,5.0,...|\n",
       "+----+----+----+----+----+----+----+----+----+-----+----+----+----+----+----+----+----+----+----+-----+----+----+----+----+----+----+----+----+----+-----+----+----+----+----+----+----+----+----+----+-----+----+------------------+----+------------------+----+------------------+----+----+----+-----+-------+---------------+--------------------+\n",
       "only showing top 20 rows\n",
       "\n",
       "</div>"
      ]
     },
     "metadata": {
      "application/vnd.databricks.v1+output": {
       "addedWidgets": {},
       "arguments": {},
       "data": "<div class=\"ansiout\">+----+----+----+----+----+----+----+----+----+-----+----+----+----+----+----+----+----+----+----+-----+----+----+----+----+----+----+----+----+----+-----+----+----+----+----+----+----+----+----+----+-----+----+------------------+----+------------------+----+------------------+----+----+----+-----+-------+---------------+--------------------+\n|EXT1|EXT2|EXT3|EXT4|EXT5|EXT6|EXT7|EXT8|EXT9|EXT10|EST1|EST2|EST3|EST4|EST5|EST6|EST7|EST8|EST9|EST10|AGR1|AGR2|AGR3|AGR4|AGR5|AGR6|AGR7|AGR8|AGR9|AGR10|CSN1|CSN2|CSN3|CSN4|CSN5|CSN6|CSN7|CSN8|CSN9|CSN10|OPN1|              OPN2|OPN3|              OPN4|OPN5|              OPN6|OPN7|OPN8|OPN9|OPN10|country|country_indexed|            features|\n+----+----+----+----+----+----+----+----+----+-----+----+----+----+----+----+----+----+----+----+-----+----+----+----+----+----+----+----+----+----+-----+----+----+----+----+----+----+----+----+----+-----+----+------------------+----+------------------+----+------------------+----+----+----+-----+-------+---------------+--------------------+\n|   4| 1.0| 5.0| 2.0| 5.0| 1.0| 5.0| 2.0| 4.0|  1.0| 1.0| 4.0| 4.0| 2.0| 2.0| 2.0| 2.0| 2.0| 3.0|  2.0| 2.0| 5.0| 2.0| 4.0| 2.0| 3.0| 2.0| 4.0| 3.0|  4.0| 3.0| 4.0| 3.0| 2.0| 2.0| 4.0| 4.0| 2.0| 4.0|  4.0| 5.0|0.6931471805599453| 4.0|0.6931471805599453| 4.0|0.6931471805599453| 5.0| 3.0| 4.0|  5.0|     GB|            1.0|[1.0,5.0,2.0,5.0,...|\n|   3| 5.0| 3.0| 4.0| 3.0| 3.0| 2.0| 5.0| 1.0|  5.0| 2.0| 3.0| 4.0| 1.0| 3.0| 1.0| 2.0| 1.0| 3.0|  1.0| 1.0| 4.0| 1.0| 5.0| 1.0| 5.0| 3.0| 4.0| 5.0|  3.0| 3.0| 2.0| 5.0| 3.0| 3.0| 1.0| 3.0| 3.0| 5.0|  3.0| 1.0|1.0986122886681096| 4.0|1.0986122886681096| 3.0|0.6931471805599453| 4.0| 2.0| 5.0|  3.0|     MY|           10.0|[5.0,3.0,4.0,3.0,...|\n|   2| 3.0| 4.0| 4.0| 3.0| 2.0| 1.0| 3.0| 2.0|  5.0| 4.0| 4.0| 4.0| 2.0| 2.0| 2.0| 2.0| 2.0| 1.0|  3.0| 1.0| 4.0| 1.0| 4.0| 2.0| 4.0| 1.0| 4.0| 4.0|  3.0| 4.0| 2.0| 2.0| 2.0| 3.0| 3.0| 4.0| 2.0| 4.0|  2.0| 5.0|0.6931471805599453| 2.0|0.6931471805599453| 4.0|1.0986122886681096| 5.0| 3.0| 4.0|  4.0|     GB|            1.0|[3.0,4.0,4.0,3.0,...|\n|   2| 2.0| 2.0| 3.0| 4.0| 2.0| 2.0| 4.0| 1.0|  4.0| 3.0| 3.0| 3.0| 2.0| 3.0| 2.0| 2.0| 2.0| 4.0|  3.0| 2.0| 4.0| 3.0| 4.0| 2.0| 4.0| 2.0| 4.0| 3.0|  4.0| 2.0| 4.0| 4.0| 4.0| 1.0| 2.0| 2.0| 3.0| 1.0|  4.0| 4.0|1.0986122886681096| 5.0|1.0986122886681096| 3.0|0.6931471805599453| 4.0| 4.0| 3.0|  3.0|     GB|            1.0|[2.0,2.0,3.0,4.0,...|\n|   3| 3.0| 3.0| 3.0| 5.0| 3.0| 3.0| 5.0| 3.0|  4.0| 1.0| 5.0| 5.0| 3.0| 1.0| 1.0| 1.0| 1.0| 3.0|  2.0| 1.0| 5.0| 1.0| 5.0| 1.0| 3.0| 1.0| 5.0| 5.0|  3.0| 5.0| 1.0| 5.0| 1.0| 3.0| 1.0| 5.0| 1.0| 5.0|  5.0| 5.0|0.6931471805599453| 5.0|0.6931471805599453| 5.0|0.6931471805599453| 5.0| 3.0| 5.0|  5.0|     KE|           49.0|[3.0,3.0,3.0,5.0,...|\n|   3| 3.0| 4.0| 2.0| 4.0| 2.0| 2.0| 3.0| 3.0|  4.0| 3.0| 4.0| 3.0| 2.0| 2.0| 1.0| 2.0| 1.0| 2.0|  2.0| 2.0| 3.0| 1.0| 4.0| 2.0| 3.0| 2.0| 3.0| 4.0|  4.0| 3.0| 2.0| 4.0| 1.0| 3.0| 2.0| 4.0| 3.0| 4.0|  3.0| 5.0|0.6931471805599453| 5.0|0.6931471805599453| 3.0|0.6931471805599453| 5.0| 4.0| 5.0|  2.0|     SE|           12.0|[3.0,4.0,2.0,4.0,...|\n|   4| 3.0| 4.0| 3.0| 3.0| 3.0| 5.0| 3.0| 4.0|  3.0| 2.0| 4.0| 4.0| 2.0| 4.0| 2.0| 2.0| 2.0| 4.0|  4.0| 1.0| 2.0| 1.0| 5.0| 3.0| 5.0| 3.0| 4.0| 4.0|  5.0| 3.0| 2.0| 4.0| 2.0| 1.0| 4.0| 4.0| 2.0| 2.0|  5.0| 5.0|1.0986122886681096| 4.0|1.3862943611198906| 4.0|0.6931471805599453| 5.0| 5.0| 4.0|  4.0|     US|            0.0|[3.0,4.0,3.0,3.0,...|\n|   3| 1.0| 5.0| 2.0| 5.0| 2.0| 5.0| 2.0| 3.0|  2.0| 2.0| 4.0| 2.0| 4.0| 2.0| 1.0| 2.0| 1.0| 1.0|  1.0| 2.0| 5.0| 2.0| 4.0| 3.0| 2.0| 2.0| 4.0| 4.0|  4.0| 5.0| 1.0| 5.0| 1.0| 4.0| 2.0| 3.0| 2.0| 5.0|  5.0| 4.0|0.6931471805599453| 3.0|0.6931471805599453| 5.0|0.6931471805599453| 4.0| 3.0| 4.0|  5.0|     MY|           10.0|[1.0,5.0,2.0,5.0,...|\n|   2| 2.0| 3.0| 3.0| 4.0| 2.0| 2.0| 2.0| 4.0|  4.0| 3.0| 4.0| 4.0| 1.0| 2.0| 2.0| 3.0| 2.0| 3.0|  4.0| 1.0| 5.0| 1.0| 5.0| 1.0| 3.0| 1.0| 4.0| 4.0|  4.0| 3.0| 3.0| 4.0| 0.0| 3.0| 4.0| 1.0| 2.0| 1.0|  4.0| 4.0|0.6931471805599453| 5.0|0.6931471805599453| 4.0|0.6931471805599453| 5.0| 2.0| 5.0|  5.0|     GB|            1.0|[2.0,3.0,3.0,4.0,...|\n|   1| 5.0| 3.0| 5.0| 2.0| 3.0| 2.0| 4.0| 5.0|  4.0| 3.0| 3.0| 3.0| 3.0| 4.0| 3.0| 3.0| 3.0| 3.0|  3.0| 5.0| 3.0| 5.0| 1.0| 5.0| 3.0| 4.0| 2.0| 3.0|  2.0| 2.0| 5.0| 1.0| 5.0| 1.0| 4.0| 3.0| 4.0| 2.0|  2.0| 3.0|0.6931471805599453| 3.0|0.6931471805599453| 3.0|1.3862943611198906| 4.0| 3.0| 3.0|  3.0|     FI|           23.0|[5.0,3.0,5.0,2.0,...|\n|   3| 3.0| 2.0| 3.0| 3.0| 2.0| 4.0| 3.0| 3.0|  5.0| 4.0| 3.0| 4.0| 1.0| 2.0| 3.0| 5.0| 4.0| 4.0|  5.0| 2.0| 5.0| 3.0| 4.0| 2.0| 3.0| 1.0| 3.0| 4.0|  2.0| 1.0| 5.0| 5.0| 5.0| 1.0| 5.0| 3.0| 1.0| 1.0|  5.0| 5.0|0.6931471805599453| 5.0|0.6931471805599453| 5.0|0.6931471805599453| 5.0| 5.0| 5.0|  5.0|     UA|           63.0|[3.0,2.0,3.0,3.0,...|\n|   3| 1.0| 5.0| 3.0| 5.0| 1.0| 5.0| 5.0| 5.0|  3.0| 5.0| 1.0| 3.0| 1.0| 5.0| 5.0| 5.0| 5.0| 5.0|  3.0| 2.0| 5.0| 5.0| 3.0| 3.0| 5.0| 3.0| 5.0| 5.0|  5.0| 5.0| 5.0| 5.0| 3.0| 5.0| 5.0| 5.0| 3.0| 3.0|  5.0| 4.0|0.6931471805599453| 5.0|0.6931471805599453| 5.0|1.3862943611198906| 1.0| 5.0| 5.0|  5.0|     PH|            4.0|[1.0,5.0,3.0,5.0,...|\n|   4| 1.0| 5.0| 4.0| 5.0| 1.0| 4.0| 1.0| 5.0|  2.0| 1.0| 5.0| 1.0| 2.0| 1.0| 1.0| 5.0| 4.0| 1.0|  5.0| 1.0| 5.0| 2.0| 5.0| 1.0| 4.0| 1.0| 5.0| 5.0|  5.0| 2.0| 4.0| 5.0| 4.0| 2.0| 3.0| 1.0| 4.0| 1.0|  2.0| 5.0|0.6931471805599453| 5.0|0.6931471805599453| 4.0|0.6931471805599453| 5.0| 5.0| 5.0|  5.0|     FR|           17.0|[1.0,5.0,4.0,5.0,...|\n|   1| 5.0| 1.0| 5.0| 1.0| 5.0| 1.0| 5.0| 1.0|  5.0| 5.0| 1.0| 5.0| 1.0| 4.0| 5.0| 3.0| 3.0| 4.0|  5.0| 2.0| 2.0| 2.0| 3.0| 3.0| 3.0| 3.0| 0.0| 3.0|  1.0| 3.0| 2.0| 5.0| 3.0| 4.0| 1.0| 5.0| 3.0| 4.0|  3.0| 5.0|0.6931471805599453| 4.0|0.6931471805599453| 2.0|1.0986122886681096| 4.0| 5.0| 5.0|  3.0|     GB|            1.0|[5.0,1.0,5.0,1.0,...|\n|   1| 5.0| 2.0| 5.0| 1.0| 4.0| 1.0| 2.0| 2.0|  5.0| 4.0| 3.0| 5.0| 1.0| 4.0| 4.0| 4.0| 2.0| 4.0|  5.0| 2.0| 5.0| 4.0| 5.0| 1.0| 5.0| 2.0| 4.0| 5.0|  5.0| 4.0| 4.0| 2.0| 4.0| 2.0| 3.0| 4.0| 1.0| 4.0|  5.0| 5.0|1.6094379124341003| 5.0| 1.791759469228055| 4.0|0.6931471805599453| 4.0| 4.0| 5.0|  5.0|     AU|            3.0|[5.0,2.0,5.0,1.0,...|\n|   2| 1.0| 3.0| 4.0| 4.0| 3.0| 5.0| 3.0| 3.0|  5.0| 4.0| 2.0| 3.0| 3.0| 3.0| 4.0| 3.0| 3.0| 5.0|  5.0| 5.0| 5.0| 5.0| 5.0| 2.0| 3.0| 3.0| 3.0| 4.0|  5.0| 3.0| 3.0| 4.0| 4.0| 4.0| 2.0| 3.0| 3.0| 4.0|  5.0| 5.0|1.0986122886681096| 5.0|1.3862943611198906| 4.0|0.6931471805599453| 3.0| 3.0| 5.0|  5.0|     IN|            5.0|[1.0,3.0,4.0,4.0,...|\n|   1| 4.0| 2.0| 4.0| 2.0| 3.0| 2.0| 4.0| 2.0|  4.0| 4.0| 3.0| 4.0| 2.0| 4.0| 4.0| 3.0| 3.0| 4.0|  4.0| 2.0| 3.0| 3.0| 3.0| 3.0| 4.0| 3.0| 4.0| 4.0|  3.0| 2.0| 2.0| 3.0| 3.0| 2.0| 4.0| 3.0| 2.0| 2.0|  3.0| 4.0|1.0986122886681096| 4.0|1.3862943611198906| 4.0|1.0986122886681096| 4.0| 3.0| 4.0|  4.0|     CA|            2.0|[4.0,2.0,4.0,2.0,...|\n|   4| 1.0| 5.0| 2.0| 4.0| 2.0| 3.0| 2.0| 4.0|  2.0| 1.0| 4.0| 3.0| 5.0| 3.0| 2.0| 3.0| 2.0| 2.0|  1.0| 4.0| 5.0| 1.0| 5.0| 2.0| 4.0| 2.0| 4.0| 4.0|  4.0| 3.0| 3.0| 4.0| 4.0| 2.0| 3.0| 4.0| 3.0| 2.0|  3.0| 3.0|1.3862943611198906| 4.0|1.3862943611198906| 3.0|1.6094379124341003| 3.0| 2.0| 2.0|  3.0|     NL|           13.0|[1.0,5.0,2.0,4.0,...|\n|   4| 2.0| 5.0| 3.0| 4.0| 4.0| 5.0| 2.0| 5.0|  2.0| 2.0| 5.0| 4.0| 4.0| 3.0| 4.0| 2.0| 1.0| 1.0|  1.0| 1.0| 5.0| 1.0| 5.0| 1.0| 5.0| 1.0| 5.0| 5.0|  4.0| 0.0| 3.0| 5.0| 3.0| 1.0| 5.0| 3.0| 2.0| 1.0|  2.0| 4.0|0.6931471805599453| 5.0|0.6931471805599453| 3.0| 1.791759469228055| 4.0| 2.0| 5.0|  3.0|     ZA|           26.0|[2.0,5.0,3.0,4.0,...|\n|   5| 1.0| 5.0| 2.0| 5.0| 1.0| 5.0| 3.0| 5.0|  4.0| 4.0| 1.0| 4.0| 2.0| 4.0| 4.0| 4.0| 4.0| 5.0|  4.0| 3.0| 3.0| 4.0| 3.0| 2.0| 5.0| 1.0| 4.0| 4.0|  4.0| 4.0| 1.0| 5.0| 1.0| 5.0| 5.0| 5.0| 1.0| 5.0|  5.0| 4.0| 1.791759469228055| 3.0| 1.791759469228055| 4.0|1.3862943611198906| 5.0| 4.0| 2.0|  3.0|     HK|           28.0|[1.0,5.0,2.0,5.0,...|\n+----+----+----+----+----+----+----+----+----+-----+----+----+----+----+----+----+----+----+----+-----+----+----+----+----+----+----+----+----+----+-----+----+----+----+----+----+----+----+----+----+-----+----+------------------+----+------------------+----+------------------+----+----+----+-----+-------+---------------+--------------------+\nonly showing top 20 rows\n\n</div>",
       "datasetInfos": [],
       "removedWidgets": [],
       "type": "html"
      }
     },
     "output_type": "display_data"
    }
   ],
   "source": [
    "from pyspark.ml.linalg import Vectors\n",
    "from pyspark.ml.feature import VectorAssembler\n",
    "\n",
    "# updated_feats = [feat+\"_ohe\" for feat in categorical_feats]\n",
    "# updated_feats += numeric_feats\n",
    "\n",
    "assembler = VectorAssembler(inputCols=features_1, outputCol='features')\n",
    "td_assem = assembler.transform(td_)\n",
    "td_assem.show()"
   ]
  },
  {
   "cell_type": "code",
   "execution_count": 0,
   "metadata": {
    "application/vnd.databricks.v1+cell": {
     "inputWidgets": {},
     "nuid": "648d7d42-a3dd-4f4d-bfea-ff163994bd2b",
     "showTitle": false,
     "title": ""
    }
   },
   "outputs": [
    {
     "data": {
      "text/html": [
       "<style scoped>\n",
       "  .ansiout {\n",
       "    display: block;\n",
       "    unicode-bidi: embed;\n",
       "    white-space: pre-wrap;\n",
       "    word-wrap: break-word;\n",
       "    word-break: break-all;\n",
       "    font-family: \"Source Code Pro\", \"Menlo\", monospace;;\n",
       "    font-size: 13px;\n",
       "    color: #555;\n",
       "    margin-left: 4px;\n",
       "    line-height: 19px;\n",
       "  }\n",
       "</style>\n",
       "<div class=\"ansiout\"></div>"
      ]
     },
     "metadata": {
      "application/vnd.databricks.v1+output": {
       "addedWidgets": {},
       "arguments": {},
       "data": "<div class=\"ansiout\"></div>",
       "datasetInfos": [],
       "removedWidgets": [],
       "type": "html"
      }
     },
     "output_type": "display_data"
    }
   ],
   "source": [
    "(trainingData, testData) = td_assem.randomSplit([0.7, 0.3])"
   ]
  },
  {
   "cell_type": "code",
   "execution_count": 0,
   "metadata": {
    "application/vnd.databricks.v1+cell": {
     "inputWidgets": {},
     "nuid": "45918d0a-4d6f-4ab2-8eed-f9fd6a0bd131",
     "showTitle": false,
     "title": ""
    }
   },
   "outputs": [
    {
     "data": {
      "text/html": [
       "<style scoped>\n",
       "  .ansiout {\n",
       "    display: block;\n",
       "    unicode-bidi: embed;\n",
       "    white-space: pre-wrap;\n",
       "    word-wrap: break-word;\n",
       "    word-break: break-all;\n",
       "    font-family: \"Source Code Pro\", \"Menlo\", monospace;;\n",
       "    font-size: 13px;\n",
       "    color: #555;\n",
       "    margin-left: 4px;\n",
       "    line-height: 19px;\n",
       "  }\n",
       "</style>\n",
       "<div class=\"ansiout\">+----+----+----+----+----+----+----+----+----+-----+----+----+----+----+----+----+----+----+----+-----+----+----+----+----+----+----+----+----+----+-----+----+----+----+----+----+----+----+----+----+-----+----+----+----+----+----+----+----+----+----+-----+-------+---------------+----------------+\n",
       "EXT1|EXT2|EXT3|EXT4|EXT5|EXT6|EXT7|EXT8|EXT9|EXT10|EST1|EST2|EST3|EST4|EST5|EST6|EST7|EST8|EST9|EST10|AGR1|AGR2|AGR3|AGR4|AGR5|AGR6|AGR7|AGR8|AGR9|AGR10|CSN1|CSN2|CSN3|CSN4|CSN5|CSN6|CSN7|CSN8|CSN9|CSN10|OPN1|OPN2|OPN3|OPN4|OPN5|OPN6|OPN7|OPN8|OPN9|OPN10|country|country_indexed|        features|\n",
       "+----+----+----+----+----+----+----+----+----+-----+----+----+----+----+----+----+----+----+----+-----+----+----+----+----+----+----+----+----+----+-----+----+----+----+----+----+----+----+----+----+-----+----+----+----+----+----+----+----+----+----+-----+-------+---------------+----------------+\n",
       "   0| 0.0| 0.0| 0.0| 0.0| 0.0| 0.0| 0.0| 0.0|  0.0| 0.0| 0.0| 0.0| 0.0| 0.0| 0.0| 0.0| 0.0| 0.0|  0.0| 0.0| 0.0| 0.0| 0.0| 0.0| 0.0| 0.0| 0.0| 0.0|  0.0| 0.0| 0.0| 0.0| 0.0| 0.0| 0.0| 0.0| 0.0| 0.0|  0.0| 0.0| 0.0| 0.0| 0.0| 0.0| 0.0| 0.0| 0.0| 0.0|  0.0|     AE|           33.0|(41,[40],[33.0])|\n",
       "   0| 0.0| 0.0| 0.0| 0.0| 0.0| 0.0| 0.0| 0.0|  0.0| 0.0| 0.0| 0.0| 0.0| 0.0| 0.0| 0.0| 0.0| 0.0|  0.0| 0.0| 0.0| 0.0| 0.0| 0.0| 0.0| 0.0| 0.0| 0.0|  0.0| 0.0| 0.0| 0.0| 0.0| 0.0| 0.0| 0.0| 0.0| 0.0|  0.0| 0.0| 0.0| 0.0| 0.0| 0.0| 0.0| 0.0| 0.0| 0.0|  0.0|     AE|           33.0|(41,[40],[33.0])|\n",
       "   0| 0.0| 0.0| 0.0| 0.0| 0.0| 0.0| 0.0| 0.0|  0.0| 0.0| 0.0| 0.0| 0.0| 0.0| 0.0| 0.0| 0.0| 0.0|  0.0| 0.0| 0.0| 0.0| 0.0| 0.0| 0.0| 0.0| 0.0| 0.0|  0.0| 0.0| 0.0| 0.0| 0.0| 0.0| 0.0| 0.0| 0.0| 0.0|  0.0| 0.0| 0.0| 0.0| 0.0| 0.0| 0.0| 0.0| 0.0| 0.0|  0.0|     AE|           33.0|(41,[40],[33.0])|\n",
       "   0| 0.0| 0.0| 0.0| 0.0| 0.0| 0.0| 0.0| 0.0|  0.0| 0.0| 0.0| 0.0| 0.0| 0.0| 0.0| 0.0| 0.0| 0.0|  0.0| 0.0| 0.0| 0.0| 0.0| 0.0| 0.0| 0.0| 0.0| 0.0|  0.0| 0.0| 0.0| 0.0| 0.0| 0.0| 0.0| 0.0| 0.0| 0.0|  0.0| 0.0| 0.0| 0.0| 0.0| 0.0| 0.0| 0.0| 0.0| 0.0|  0.0|     AU|            3.0| (41,[40],[3.0])|\n",
       "   0| 0.0| 0.0| 0.0| 0.0| 0.0| 0.0| 0.0| 0.0|  0.0| 0.0| 0.0| 0.0| 0.0| 0.0| 0.0| 0.0| 0.0| 0.0|  0.0| 0.0| 0.0| 0.0| 0.0| 0.0| 0.0| 0.0| 0.0| 0.0|  0.0| 0.0| 0.0| 0.0| 0.0| 0.0| 0.0| 0.0| 0.0| 0.0|  0.0| 0.0| 0.0| 0.0| 0.0| 0.0| 0.0| 0.0| 0.0| 0.0|  0.0|     AU|            3.0| (41,[40],[3.0])|\n",
       "   0| 0.0| 0.0| 0.0| 0.0| 0.0| 0.0| 0.0| 0.0|  0.0| 0.0| 0.0| 0.0| 0.0| 0.0| 0.0| 0.0| 0.0| 0.0|  0.0| 0.0| 0.0| 0.0| 0.0| 0.0| 0.0| 0.0| 0.0| 0.0|  0.0| 0.0| 0.0| 0.0| 0.0| 0.0| 0.0| 0.0| 0.0| 0.0|  0.0| 0.0| 0.0| 0.0| 0.0| 0.0| 0.0| 0.0| 0.0| 0.0|  0.0|     AU|            3.0| (41,[40],[3.0])|\n",
       "   0| 0.0| 0.0| 0.0| 0.0| 0.0| 0.0| 0.0| 0.0|  0.0| 0.0| 0.0| 0.0| 0.0| 0.0| 0.0| 0.0| 0.0| 0.0|  0.0| 0.0| 0.0| 0.0| 0.0| 0.0| 0.0| 0.0| 0.0| 0.0|  0.0| 0.0| 0.0| 0.0| 0.0| 0.0| 0.0| 0.0| 0.0| 0.0|  0.0| 0.0| 0.0| 0.0| 0.0| 0.0| 0.0| 0.0| 0.0| 0.0|  0.0|     AU|            3.0| (41,[40],[3.0])|\n",
       "   0| 0.0| 0.0| 0.0| 0.0| 0.0| 0.0| 0.0| 0.0|  0.0| 0.0| 0.0| 0.0| 0.0| 0.0| 0.0| 0.0| 0.0| 0.0|  0.0| 0.0| 0.0| 0.0| 0.0| 0.0| 0.0| 0.0| 0.0| 0.0|  0.0| 0.0| 0.0| 0.0| 0.0| 0.0| 0.0| 0.0| 0.0| 0.0|  0.0| 0.0| 0.0| 0.0| 0.0| 0.0| 0.0| 0.0| 0.0| 0.0|  0.0|     AU|            3.0| (41,[40],[3.0])|\n",
       "   0| 0.0| 0.0| 0.0| 0.0| 0.0| 0.0| 0.0| 0.0|  0.0| 0.0| 0.0| 0.0| 0.0| 0.0| 0.0| 0.0| 0.0| 0.0|  0.0| 0.0| 0.0| 0.0| 0.0| 0.0| 0.0| 0.0| 0.0| 0.0|  0.0| 0.0| 0.0| 0.0| 0.0| 0.0| 0.0| 0.0| 0.0| 0.0|  0.0| 0.0| 0.0| 0.0| 0.0| 0.0| 0.0| 0.0| 0.0| 0.0|  0.0|     AU|            3.0| (41,[40],[3.0])|\n",
       "   0| 0.0| 0.0| 0.0| 0.0| 0.0| 0.0| 0.0| 0.0|  0.0| 0.0| 0.0| 0.0| 0.0| 0.0| 0.0| 0.0| 0.0| 0.0|  0.0| 0.0| 0.0| 0.0| 0.0| 0.0| 0.0| 0.0| 0.0| 0.0|  0.0| 0.0| 0.0| 0.0| 0.0| 0.0| 0.0| 0.0| 0.0| 0.0|  0.0| 0.0| 0.0| 0.0| 0.0| 0.0| 0.0| 0.0| 0.0| 0.0|  0.0|     AU|            3.0| (41,[40],[3.0])|\n",
       "   0| 0.0| 0.0| 0.0| 0.0| 0.0| 0.0| 0.0| 0.0|  0.0| 0.0| 0.0| 0.0| 0.0| 0.0| 0.0| 0.0| 0.0| 0.0|  0.0| 0.0| 0.0| 0.0| 0.0| 0.0| 0.0| 0.0| 0.0| 0.0|  0.0| 0.0| 0.0| 0.0| 0.0| 0.0| 0.0| 0.0| 0.0| 0.0|  0.0| 0.0| 0.0| 0.0| 0.0| 0.0| 0.0| 0.0| 0.0| 0.0|  0.0|     BE|           25.0|(41,[40],[25.0])|\n",
       "   0| 0.0| 0.0| 0.0| 0.0| 0.0| 0.0| 0.0| 0.0|  0.0| 0.0| 0.0| 0.0| 0.0| 0.0| 0.0| 0.0| 0.0| 0.0|  0.0| 0.0| 0.0| 0.0| 0.0| 0.0| 0.0| 0.0| 0.0| 0.0|  0.0| 0.0| 0.0| 0.0| 0.0| 0.0| 0.0| 0.0| 0.0| 0.0|  0.0| 0.0| 0.0| 0.0| 0.0| 0.0| 0.0| 0.0| 0.0| 0.0|  0.0|     CA|            2.0| (41,[40],[2.0])|\n",
       "   0| 0.0| 0.0| 0.0| 0.0| 0.0| 0.0| 0.0| 0.0|  0.0| 0.0| 0.0| 0.0| 0.0| 0.0| 0.0| 0.0| 0.0| 0.0|  0.0| 0.0| 0.0| 0.0| 0.0| 0.0| 0.0| 0.0| 0.0| 0.0|  0.0| 0.0| 0.0| 0.0| 0.0| 0.0| 0.0| 0.0| 0.0| 0.0|  0.0| 0.0| 0.0| 0.0| 0.0| 0.0| 0.0| 0.0| 0.0| 0.0|  0.0|     CA|            2.0| (41,[40],[2.0])|\n",
       "   0| 0.0| 0.0| 0.0| 0.0| 0.0| 0.0| 0.0| 0.0|  0.0| 0.0| 0.0| 0.0| 0.0| 0.0| 0.0| 0.0| 0.0| 0.0|  0.0| 0.0| 0.0| 0.0| 0.0| 0.0| 0.0| 0.0| 0.0| 0.0|  0.0| 0.0| 0.0| 0.0| 0.0| 0.0| 0.0| 0.0| 0.0| 0.0|  0.0| 0.0| 0.0| 0.0| 0.0| 0.0| 0.0| 0.0| 0.0| 0.0|  0.0|     CA|            2.0| (41,[40],[2.0])|\n",
       "   0| 0.0| 0.0| 0.0| 0.0| 0.0| 0.0| 0.0| 0.0|  0.0| 0.0| 0.0| 0.0| 0.0| 0.0| 0.0| 0.0| 0.0| 0.0|  0.0| 0.0| 0.0| 0.0| 0.0| 0.0| 0.0| 0.0| 0.0| 0.0|  0.0| 0.0| 0.0| 0.0| 0.0| 0.0| 0.0| 0.0| 0.0| 0.0|  0.0| 0.0| 0.0| 0.0| 0.0| 0.0| 0.0| 0.0| 0.0| 0.0|  0.0|     CA|            2.0| (41,[40],[2.0])|\n",
       "   0| 0.0| 0.0| 0.0| 0.0| 0.0| 0.0| 0.0| 0.0|  0.0| 0.0| 0.0| 0.0| 0.0| 0.0| 0.0| 0.0| 0.0| 0.0|  0.0| 0.0| 0.0| 0.0| 0.0| 0.0| 0.0| 0.0| 0.0| 0.0|  0.0| 0.0| 0.0| 0.0| 0.0| 0.0| 0.0| 0.0| 0.0| 0.0|  0.0| 0.0| 0.0| 0.0| 0.0| 0.0| 0.0| 0.0| 0.0| 0.0|  0.0|     CA|            2.0| (41,[40],[2.0])|\n",
       "   0| 0.0| 0.0| 0.0| 0.0| 0.0| 0.0| 0.0| 0.0|  0.0| 0.0| 0.0| 0.0| 0.0| 0.0| 0.0| 0.0| 0.0| 0.0|  0.0| 0.0| 0.0| 0.0| 0.0| 0.0| 0.0| 0.0| 0.0| 0.0|  0.0| 0.0| 0.0| 0.0| 0.0| 0.0| 0.0| 0.0| 0.0| 0.0|  0.0| 0.0| 0.0| 0.0| 0.0| 0.0| 0.0| 0.0| 0.0| 0.0|  0.0|     CA|            2.0| (41,[40],[2.0])|\n",
       "   0| 0.0| 0.0| 0.0| 0.0| 0.0| 0.0| 0.0| 0.0|  0.0| 0.0| 0.0| 0.0| 0.0| 0.0| 0.0| 0.0| 0.0| 0.0|  0.0| 0.0| 0.0| 0.0| 0.0| 0.0| 0.0| 0.0| 0.0| 0.0|  0.0| 0.0| 0.0| 0.0| 0.0| 0.0| 0.0| 0.0| 0.0| 0.0|  0.0| 0.0| 0.0| 0.0| 0.0| 0.0| 0.0| 0.0| 0.0| 0.0|  0.0|     CN|           50.0|(41,[40],[50.0])|\n",
       "   0| 0.0| 0.0| 0.0| 0.0| 0.0| 0.0| 0.0| 0.0|  0.0| 0.0| 0.0| 0.0| 0.0| 0.0| 0.0| 0.0| 0.0| 0.0|  0.0| 0.0| 0.0| 0.0| 0.0| 0.0| 0.0| 0.0| 0.0| 0.0|  0.0| 0.0| 0.0| 0.0| 0.0| 0.0| 0.0| 0.0| 0.0| 0.0|  0.0| 0.0| 0.0| 0.0| 0.0| 0.0| 0.0| 0.0| 0.0| 0.0|  0.0|     DE|            6.0| (41,[40],[6.0])|\n",
       "   0| 0.0| 0.0| 0.0| 0.0| 0.0| 0.0| 0.0| 0.0|  0.0| 0.0| 0.0| 0.0| 0.0| 0.0| 0.0| 0.0| 0.0| 0.0|  0.0| 0.0| 0.0| 0.0| 0.0| 0.0| 0.0| 0.0| 0.0| 0.0|  0.0| 0.0| 0.0| 0.0| 0.0| 0.0| 0.0| 0.0| 0.0| 0.0|  0.0| 0.0| 0.0| 0.0| 0.0| 0.0| 0.0| 0.0| 0.0| 0.0|  0.0|     ES|           21.0|(41,[40],[21.0])|\n",
       "+----+----+----+----+----+----+----+----+----+-----+----+----+----+----+----+----+----+----+----+-----+----+----+----+----+----+----+----+----+----+-----+----+----+----+----+----+----+----+----+----+-----+----+----+----+----+----+----+----+----+----+-----+-------+---------------+----------------+\n",
       "only showing top 20 rows\n",
       "\n",
       "</div>"
      ]
     },
     "metadata": {
      "application/vnd.databricks.v1+output": {
       "addedWidgets": {},
       "arguments": {},
       "data": "<div class=\"ansiout\">+----+----+----+----+----+----+----+----+----+-----+----+----+----+----+----+----+----+----+----+-----+----+----+----+----+----+----+----+----+----+-----+----+----+----+----+----+----+----+----+----+-----+----+----+----+----+----+----+----+----+----+-----+-------+---------------+----------------+\n|EXT1|EXT2|EXT3|EXT4|EXT5|EXT6|EXT7|EXT8|EXT9|EXT10|EST1|EST2|EST3|EST4|EST5|EST6|EST7|EST8|EST9|EST10|AGR1|AGR2|AGR3|AGR4|AGR5|AGR6|AGR7|AGR8|AGR9|AGR10|CSN1|CSN2|CSN3|CSN4|CSN5|CSN6|CSN7|CSN8|CSN9|CSN10|OPN1|OPN2|OPN3|OPN4|OPN5|OPN6|OPN7|OPN8|OPN9|OPN10|country|country_indexed|        features|\n+----+----+----+----+----+----+----+----+----+-----+----+----+----+----+----+----+----+----+----+-----+----+----+----+----+----+----+----+----+----+-----+----+----+----+----+----+----+----+----+----+-----+----+----+----+----+----+----+----+----+----+-----+-------+---------------+----------------+\n|   0| 0.0| 0.0| 0.0| 0.0| 0.0| 0.0| 0.0| 0.0|  0.0| 0.0| 0.0| 0.0| 0.0| 0.0| 0.0| 0.0| 0.0| 0.0|  0.0| 0.0| 0.0| 0.0| 0.0| 0.0| 0.0| 0.0| 0.0| 0.0|  0.0| 0.0| 0.0| 0.0| 0.0| 0.0| 0.0| 0.0| 0.0| 0.0|  0.0| 0.0| 0.0| 0.0| 0.0| 0.0| 0.0| 0.0| 0.0| 0.0|  0.0|     AE|           33.0|(41,[40],[33.0])|\n|   0| 0.0| 0.0| 0.0| 0.0| 0.0| 0.0| 0.0| 0.0|  0.0| 0.0| 0.0| 0.0| 0.0| 0.0| 0.0| 0.0| 0.0| 0.0|  0.0| 0.0| 0.0| 0.0| 0.0| 0.0| 0.0| 0.0| 0.0| 0.0|  0.0| 0.0| 0.0| 0.0| 0.0| 0.0| 0.0| 0.0| 0.0| 0.0|  0.0| 0.0| 0.0| 0.0| 0.0| 0.0| 0.0| 0.0| 0.0| 0.0|  0.0|     AE|           33.0|(41,[40],[33.0])|\n|   0| 0.0| 0.0| 0.0| 0.0| 0.0| 0.0| 0.0| 0.0|  0.0| 0.0| 0.0| 0.0| 0.0| 0.0| 0.0| 0.0| 0.0| 0.0|  0.0| 0.0| 0.0| 0.0| 0.0| 0.0| 0.0| 0.0| 0.0| 0.0|  0.0| 0.0| 0.0| 0.0| 0.0| 0.0| 0.0| 0.0| 0.0| 0.0|  0.0| 0.0| 0.0| 0.0| 0.0| 0.0| 0.0| 0.0| 0.0| 0.0|  0.0|     AE|           33.0|(41,[40],[33.0])|\n|   0| 0.0| 0.0| 0.0| 0.0| 0.0| 0.0| 0.0| 0.0|  0.0| 0.0| 0.0| 0.0| 0.0| 0.0| 0.0| 0.0| 0.0| 0.0|  0.0| 0.0| 0.0| 0.0| 0.0| 0.0| 0.0| 0.0| 0.0| 0.0|  0.0| 0.0| 0.0| 0.0| 0.0| 0.0| 0.0| 0.0| 0.0| 0.0|  0.0| 0.0| 0.0| 0.0| 0.0| 0.0| 0.0| 0.0| 0.0| 0.0|  0.0|     AU|            3.0| (41,[40],[3.0])|\n|   0| 0.0| 0.0| 0.0| 0.0| 0.0| 0.0| 0.0| 0.0|  0.0| 0.0| 0.0| 0.0| 0.0| 0.0| 0.0| 0.0| 0.0| 0.0|  0.0| 0.0| 0.0| 0.0| 0.0| 0.0| 0.0| 0.0| 0.0| 0.0|  0.0| 0.0| 0.0| 0.0| 0.0| 0.0| 0.0| 0.0| 0.0| 0.0|  0.0| 0.0| 0.0| 0.0| 0.0| 0.0| 0.0| 0.0| 0.0| 0.0|  0.0|     AU|            3.0| (41,[40],[3.0])|\n|   0| 0.0| 0.0| 0.0| 0.0| 0.0| 0.0| 0.0| 0.0|  0.0| 0.0| 0.0| 0.0| 0.0| 0.0| 0.0| 0.0| 0.0| 0.0|  0.0| 0.0| 0.0| 0.0| 0.0| 0.0| 0.0| 0.0| 0.0| 0.0|  0.0| 0.0| 0.0| 0.0| 0.0| 0.0| 0.0| 0.0| 0.0| 0.0|  0.0| 0.0| 0.0| 0.0| 0.0| 0.0| 0.0| 0.0| 0.0| 0.0|  0.0|     AU|            3.0| (41,[40],[3.0])|\n|   0| 0.0| 0.0| 0.0| 0.0| 0.0| 0.0| 0.0| 0.0|  0.0| 0.0| 0.0| 0.0| 0.0| 0.0| 0.0| 0.0| 0.0| 0.0|  0.0| 0.0| 0.0| 0.0| 0.0| 0.0| 0.0| 0.0| 0.0| 0.0|  0.0| 0.0| 0.0| 0.0| 0.0| 0.0| 0.0| 0.0| 0.0| 0.0|  0.0| 0.0| 0.0| 0.0| 0.0| 0.0| 0.0| 0.0| 0.0| 0.0|  0.0|     AU|            3.0| (41,[40],[3.0])|\n|   0| 0.0| 0.0| 0.0| 0.0| 0.0| 0.0| 0.0| 0.0|  0.0| 0.0| 0.0| 0.0| 0.0| 0.0| 0.0| 0.0| 0.0| 0.0|  0.0| 0.0| 0.0| 0.0| 0.0| 0.0| 0.0| 0.0| 0.0| 0.0|  0.0| 0.0| 0.0| 0.0| 0.0| 0.0| 0.0| 0.0| 0.0| 0.0|  0.0| 0.0| 0.0| 0.0| 0.0| 0.0| 0.0| 0.0| 0.0| 0.0|  0.0|     AU|            3.0| (41,[40],[3.0])|\n|   0| 0.0| 0.0| 0.0| 0.0| 0.0| 0.0| 0.0| 0.0|  0.0| 0.0| 0.0| 0.0| 0.0| 0.0| 0.0| 0.0| 0.0| 0.0|  0.0| 0.0| 0.0| 0.0| 0.0| 0.0| 0.0| 0.0| 0.0| 0.0|  0.0| 0.0| 0.0| 0.0| 0.0| 0.0| 0.0| 0.0| 0.0| 0.0|  0.0| 0.0| 0.0| 0.0| 0.0| 0.0| 0.0| 0.0| 0.0| 0.0|  0.0|     AU|            3.0| (41,[40],[3.0])|\n|   0| 0.0| 0.0| 0.0| 0.0| 0.0| 0.0| 0.0| 0.0|  0.0| 0.0| 0.0| 0.0| 0.0| 0.0| 0.0| 0.0| 0.0| 0.0|  0.0| 0.0| 0.0| 0.0| 0.0| 0.0| 0.0| 0.0| 0.0| 0.0|  0.0| 0.0| 0.0| 0.0| 0.0| 0.0| 0.0| 0.0| 0.0| 0.0|  0.0| 0.0| 0.0| 0.0| 0.0| 0.0| 0.0| 0.0| 0.0| 0.0|  0.0|     AU|            3.0| (41,[40],[3.0])|\n|   0| 0.0| 0.0| 0.0| 0.0| 0.0| 0.0| 0.0| 0.0|  0.0| 0.0| 0.0| 0.0| 0.0| 0.0| 0.0| 0.0| 0.0| 0.0|  0.0| 0.0| 0.0| 0.0| 0.0| 0.0| 0.0| 0.0| 0.0| 0.0|  0.0| 0.0| 0.0| 0.0| 0.0| 0.0| 0.0| 0.0| 0.0| 0.0|  0.0| 0.0| 0.0| 0.0| 0.0| 0.0| 0.0| 0.0| 0.0| 0.0|  0.0|     BE|           25.0|(41,[40],[25.0])|\n|   0| 0.0| 0.0| 0.0| 0.0| 0.0| 0.0| 0.0| 0.0|  0.0| 0.0| 0.0| 0.0| 0.0| 0.0| 0.0| 0.0| 0.0| 0.0|  0.0| 0.0| 0.0| 0.0| 0.0| 0.0| 0.0| 0.0| 0.0| 0.0|  0.0| 0.0| 0.0| 0.0| 0.0| 0.0| 0.0| 0.0| 0.0| 0.0|  0.0| 0.0| 0.0| 0.0| 0.0| 0.0| 0.0| 0.0| 0.0| 0.0|  0.0|     CA|            2.0| (41,[40],[2.0])|\n|   0| 0.0| 0.0| 0.0| 0.0| 0.0| 0.0| 0.0| 0.0|  0.0| 0.0| 0.0| 0.0| 0.0| 0.0| 0.0| 0.0| 0.0| 0.0|  0.0| 0.0| 0.0| 0.0| 0.0| 0.0| 0.0| 0.0| 0.0| 0.0|  0.0| 0.0| 0.0| 0.0| 0.0| 0.0| 0.0| 0.0| 0.0| 0.0|  0.0| 0.0| 0.0| 0.0| 0.0| 0.0| 0.0| 0.0| 0.0| 0.0|  0.0|     CA|            2.0| (41,[40],[2.0])|\n|   0| 0.0| 0.0| 0.0| 0.0| 0.0| 0.0| 0.0| 0.0|  0.0| 0.0| 0.0| 0.0| 0.0| 0.0| 0.0| 0.0| 0.0| 0.0|  0.0| 0.0| 0.0| 0.0| 0.0| 0.0| 0.0| 0.0| 0.0| 0.0|  0.0| 0.0| 0.0| 0.0| 0.0| 0.0| 0.0| 0.0| 0.0| 0.0|  0.0| 0.0| 0.0| 0.0| 0.0| 0.0| 0.0| 0.0| 0.0| 0.0|  0.0|     CA|            2.0| (41,[40],[2.0])|\n|   0| 0.0| 0.0| 0.0| 0.0| 0.0| 0.0| 0.0| 0.0|  0.0| 0.0| 0.0| 0.0| 0.0| 0.0| 0.0| 0.0| 0.0| 0.0|  0.0| 0.0| 0.0| 0.0| 0.0| 0.0| 0.0| 0.0| 0.0| 0.0|  0.0| 0.0| 0.0| 0.0| 0.0| 0.0| 0.0| 0.0| 0.0| 0.0|  0.0| 0.0| 0.0| 0.0| 0.0| 0.0| 0.0| 0.0| 0.0| 0.0|  0.0|     CA|            2.0| (41,[40],[2.0])|\n|   0| 0.0| 0.0| 0.0| 0.0| 0.0| 0.0| 0.0| 0.0|  0.0| 0.0| 0.0| 0.0| 0.0| 0.0| 0.0| 0.0| 0.0| 0.0|  0.0| 0.0| 0.0| 0.0| 0.0| 0.0| 0.0| 0.0| 0.0| 0.0|  0.0| 0.0| 0.0| 0.0| 0.0| 0.0| 0.0| 0.0| 0.0| 0.0|  0.0| 0.0| 0.0| 0.0| 0.0| 0.0| 0.0| 0.0| 0.0| 0.0|  0.0|     CA|            2.0| (41,[40],[2.0])|\n|   0| 0.0| 0.0| 0.0| 0.0| 0.0| 0.0| 0.0| 0.0|  0.0| 0.0| 0.0| 0.0| 0.0| 0.0| 0.0| 0.0| 0.0| 0.0|  0.0| 0.0| 0.0| 0.0| 0.0| 0.0| 0.0| 0.0| 0.0| 0.0|  0.0| 0.0| 0.0| 0.0| 0.0| 0.0| 0.0| 0.0| 0.0| 0.0|  0.0| 0.0| 0.0| 0.0| 0.0| 0.0| 0.0| 0.0| 0.0| 0.0|  0.0|     CA|            2.0| (41,[40],[2.0])|\n|   0| 0.0| 0.0| 0.0| 0.0| 0.0| 0.0| 0.0| 0.0|  0.0| 0.0| 0.0| 0.0| 0.0| 0.0| 0.0| 0.0| 0.0| 0.0|  0.0| 0.0| 0.0| 0.0| 0.0| 0.0| 0.0| 0.0| 0.0| 0.0|  0.0| 0.0| 0.0| 0.0| 0.0| 0.0| 0.0| 0.0| 0.0| 0.0|  0.0| 0.0| 0.0| 0.0| 0.0| 0.0| 0.0| 0.0| 0.0| 0.0|  0.0|     CN|           50.0|(41,[40],[50.0])|\n|   0| 0.0| 0.0| 0.0| 0.0| 0.0| 0.0| 0.0| 0.0|  0.0| 0.0| 0.0| 0.0| 0.0| 0.0| 0.0| 0.0| 0.0| 0.0|  0.0| 0.0| 0.0| 0.0| 0.0| 0.0| 0.0| 0.0| 0.0| 0.0|  0.0| 0.0| 0.0| 0.0| 0.0| 0.0| 0.0| 0.0| 0.0| 0.0|  0.0| 0.0| 0.0| 0.0| 0.0| 0.0| 0.0| 0.0| 0.0| 0.0|  0.0|     DE|            6.0| (41,[40],[6.0])|\n|   0| 0.0| 0.0| 0.0| 0.0| 0.0| 0.0| 0.0| 0.0|  0.0| 0.0| 0.0| 0.0| 0.0| 0.0| 0.0| 0.0| 0.0| 0.0|  0.0| 0.0| 0.0| 0.0| 0.0| 0.0| 0.0| 0.0| 0.0| 0.0|  0.0| 0.0| 0.0| 0.0| 0.0| 0.0| 0.0| 0.0| 0.0| 0.0|  0.0| 0.0| 0.0| 0.0| 0.0| 0.0| 0.0| 0.0| 0.0| 0.0|  0.0|     ES|           21.0|(41,[40],[21.0])|\n+----+----+----+----+----+----+----+----+----+-----+----+----+----+----+----+----+----+----+----+-----+----+----+----+----+----+----+----+----+----+-----+----+----+----+----+----+----+----+----+----+-----+----+----+----+----+----+----+----+----+----+-----+-------+---------------+----------------+\nonly showing top 20 rows\n\n</div>",
       "datasetInfos": [],
       "removedWidgets": [],
       "type": "html"
      }
     },
     "output_type": "display_data"
    }
   ],
   "source": [
    "trainingData.show()"
   ]
  },
  {
   "cell_type": "code",
   "execution_count": 0,
   "metadata": {
    "application/vnd.databricks.v1+cell": {
     "inputWidgets": {},
     "nuid": "8b778e4f-2aaf-4b59-8f77-ff22750f8b39",
     "showTitle": false,
     "title": ""
    }
   },
   "outputs": [
    {
     "data": {
      "text/html": [
       "<style scoped>\n",
       "  .ansiout {\n",
       "    display: block;\n",
       "    unicode-bidi: embed;\n",
       "    white-space: pre-wrap;\n",
       "    word-wrap: break-word;\n",
       "    word-break: break-all;\n",
       "    font-family: \"Source Code Pro\", \"Menlo\", monospace;;\n",
       "    font-size: 13px;\n",
       "    color: #555;\n",
       "    margin-left: 4px;\n",
       "    line-height: 19px;\n",
       "  }\n",
       "</style>\n",
       "<div class=\"ansiout\"></div>"
      ]
     },
     "metadata": {
      "application/vnd.databricks.v1+output": {
       "addedWidgets": {},
       "arguments": {},
       "data": "<div class=\"ansiout\"></div>",
       "datasetInfos": [],
       "removedWidgets": [],
       "type": "html"
      }
     },
     "output_type": "display_data"
    }
   ],
   "source": [
    "from pyspark.ml.classification import LogisticRegression\n",
    "\n",
    "lr = LogisticRegression(featuresCol='features',labelCol='EXT1')\n",
    "\n",
    "lrmodel = lr.fit(trainingData)"
   ]
  },
  {
   "cell_type": "code",
   "execution_count": 0,
   "metadata": {
    "application/vnd.databricks.v1+cell": {
     "inputWidgets": {},
     "nuid": "11b1a669-46b9-42c6-93f8-67f85e694d39",
     "showTitle": false,
     "title": ""
    }
   },
   "outputs": [
    {
     "data": {
      "text/html": [
       "<style scoped>\n",
       "  .ansiout {\n",
       "    display: block;\n",
       "    unicode-bidi: embed;\n",
       "    white-space: pre-wrap;\n",
       "    word-wrap: break-word;\n",
       "    word-break: break-all;\n",
       "    font-family: \"Source Code Pro\", \"Menlo\", monospace;;\n",
       "    font-size: 13px;\n",
       "    color: #555;\n",
       "    margin-left: 4px;\n",
       "    line-height: 19px;\n",
       "  }\n",
       "</style>\n",
       "<div class=\"ansiout\">Accuracy = 0.466112\n",
       "</div>"
      ]
     },
     "metadata": {
      "application/vnd.databricks.v1+output": {
       "addedWidgets": {},
       "arguments": {},
       "data": "<div class=\"ansiout\">Accuracy = 0.466112\n</div>",
       "datasetInfos": [],
       "removedWidgets": [],
       "type": "html"
      }
     },
     "output_type": "display_data"
    }
   ],
   "source": [
    "from pyspark.ml.evaluation import MulticlassClassificationEvaluator\n",
    "predictions = lrmodel.transform(testData)\n",
    "evaluator = MulticlassClassificationEvaluator(\n",
    "    labelCol=\"EXT1\", predictionCol=\"prediction\", metricName=\"accuracy\")\n",
    "accuracy = evaluator.evaluate(predictions)\n",
    "print(\"Accuracy = %g\" % accuracy)"
   ]
  },
  {
   "cell_type": "markdown",
   "metadata": {
    "application/vnd.databricks.v1+cell": {
     "inputWidgets": {},
     "nuid": "3802604e-e232-49c0-8213-f1153d837a1d",
     "showTitle": false,
     "title": ""
    }
   },
   "source": [
    "Testing accuracy reaches 97.90%, which is very good"
   ]
  },
  {
   "cell_type": "code",
   "execution_count": 0,
   "metadata": {
    "application/vnd.databricks.v1+cell": {
     "inputWidgets": {},
     "nuid": "c46c0ea3-38ef-4f02-8754-a5f3cb568040",
     "showTitle": false,
     "title": ""
    }
   },
   "outputs": [],
   "source": []
  }
 ],
 "metadata": {
  "application/vnd.databricks.v1+notebook": {
   "dashboards": [],
   "language": "python",
   "notebookMetadata": {
    "pythonIndentUnit": 2
   },
   "notebookName": "personality_analysis_2",
   "notebookOrigID": 245684257901846,
   "widgets": {}
  },
  "kernelspec": {
   "display_name": "Python 3",
   "language": "python",
   "name": "python3"
  },
  "language_info": {
   "codemirror_mode": {
    "name": "ipython",
    "version": 3
   },
   "file_extension": ".py",
   "mimetype": "text/x-python",
   "name": "python",
   "nbconvert_exporter": "python",
   "pygments_lexer": "ipython3",
   "version": "3.8.5"
  }
 },
 "nbformat": 4,
 "nbformat_minor": 1
}
