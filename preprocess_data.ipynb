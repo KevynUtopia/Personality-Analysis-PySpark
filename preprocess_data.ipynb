{
 "cells": [
  {
   "cell_type": "code",
   "execution_count": 15,
   "id": "australian-insertion",
   "metadata": {},
   "outputs": [],
   "source": [
    "import csv\n",
    "import pandas as pd\n",
    "filename = './IPIP-FFM-data-8Nov2018/data-final.csv'\n",
    "df =pd.read_csv(filename, sep='\\t')"
   ]
  },
  {
   "cell_type": "code",
   "execution_count": 16,
   "id": "worldwide-spank",
   "metadata": {},
   "outputs": [
    {
     "data": {
      "text/html": [
       "<div>\n",
       "<style scoped>\n",
       "    .dataframe tbody tr th:only-of-type {\n",
       "        vertical-align: middle;\n",
       "    }\n",
       "\n",
       "    .dataframe tbody tr th {\n",
       "        vertical-align: top;\n",
       "    }\n",
       "\n",
       "    .dataframe thead th {\n",
       "        text-align: right;\n",
       "    }\n",
       "</style>\n",
       "<table border=\"1\" class=\"dataframe\">\n",
       "  <thead>\n",
       "    <tr style=\"text-align: right;\">\n",
       "      <th></th>\n",
       "      <th>EXT1</th>\n",
       "      <th>EXT2</th>\n",
       "      <th>EXT3</th>\n",
       "      <th>EXT4</th>\n",
       "      <th>EXT5</th>\n",
       "      <th>EXT6</th>\n",
       "      <th>EXT7</th>\n",
       "      <th>EXT8</th>\n",
       "      <th>EXT9</th>\n",
       "      <th>EXT10</th>\n",
       "      <th>...</th>\n",
       "      <th>dateload</th>\n",
       "      <th>screenw</th>\n",
       "      <th>screenh</th>\n",
       "      <th>introelapse</th>\n",
       "      <th>testelapse</th>\n",
       "      <th>endelapse</th>\n",
       "      <th>IPC</th>\n",
       "      <th>country</th>\n",
       "      <th>lat_appx_lots_of_err</th>\n",
       "      <th>long_appx_lots_of_err</th>\n",
       "    </tr>\n",
       "  </thead>\n",
       "  <tbody>\n",
       "  </tbody>\n",
       "</table>\n",
       "<p>0 rows × 110 columns</p>\n",
       "</div>"
      ],
      "text/plain": [
       "Empty DataFrame\n",
       "Columns: [EXT1, EXT2, EXT3, EXT4, EXT5, EXT6, EXT7, EXT8, EXT9, EXT10, EST1, EST2, EST3, EST4, EST5, EST6, EST7, EST8, EST9, EST10, AGR1, AGR2, AGR3, AGR4, AGR5, AGR6, AGR7, AGR8, AGR9, AGR10, CSN1, CSN2, CSN3, CSN4, CSN5, CSN6, CSN7, CSN8, CSN9, CSN10, OPN1, OPN2, OPN3, OPN4, OPN5, OPN6, OPN7, OPN8, OPN9, OPN10, EXT1_E, EXT2_E, EXT3_E, EXT4_E, EXT5_E, EXT6_E, EXT7_E, EXT8_E, EXT9_E, EXT10_E, EST1_E, EST2_E, EST3_E, EST4_E, EST5_E, EST6_E, EST7_E, EST8_E, EST9_E, EST10_E, AGR1_E, AGR2_E, AGR3_E, AGR4_E, AGR5_E, AGR6_E, AGR7_E, AGR8_E, AGR9_E, AGR10_E, CSN1_E, CSN2_E, CSN3_E, CSN4_E, CSN5_E, CSN6_E, CSN7_E, CSN8_E, CSN9_E, CSN10_E, OPN1_E, OPN2_E, OPN3_E, OPN4_E, OPN5_E, OPN6_E, OPN7_E, OPN8_E, OPN9_E, OPN10_E, ...]\n",
       "Index: []\n",
       "\n",
       "[0 rows x 110 columns]"
      ]
     },
     "execution_count": 16,
     "metadata": {},
     "output_type": "execute_result"
    }
   ],
   "source": [
    "df.head(0)"
   ]
  },
  {
   "cell_type": "code",
   "execution_count": 17,
   "id": "attached-manual",
   "metadata": {},
   "outputs": [
    {
     "data": {
      "text/plain": [
       "1015341"
      ]
     },
     "execution_count": 17,
     "metadata": {},
     "output_type": "execute_result"
    }
   ],
   "source": [
    "df.shape[0]"
   ]
  },
  {
   "cell_type": "code",
   "execution_count": 18,
   "id": "settled-capture",
   "metadata": {},
   "outputs": [],
   "source": [
    "df = df.dropna()"
   ]
  },
  {
   "cell_type": "code",
   "execution_count": 19,
   "id": "asian-financing",
   "metadata": {},
   "outputs": [],
   "source": [
    "features = [\"EXT1\", \"EXT2\" ,\"EXT3\" ,\"EXT4\" ,\"EXT5\" ,\"EXT6\" ,\"EXT7\" ,\"EXT8\" ,\"EXT9\" ,\"EXT10\",\n",
    "            \"EST1\" ,\"EST2\" ,\"EST3\" ,\"EST4\" ,\"EST5\" ,\"EST6\" ,\"EST7\" ,\"EST8\" ,\"EST9\" ,\"EST10\",\n",
    "            \"AGR1\" ,\"AGR2\" ,\"AGR3\" ,\"AGR4\" ,\"AGR5\" ,\"AGR6\" ,\"AGR7\" ,\"AGR8\" ,\"AGR9\" ,\"AGR10\",\n",
    "            \"CSN1\" ,\"CSN2\" ,\"CSN3\" ,\"CSN4\" ,\"CSN5\" ,\"CSN6\" ,\"CSN7\" ,\"CSN8\" ,\"CSN9\" ,\"CSN10\",\n",
    "            \"OPN1\" ,\"OPN2\" ,\"OPN3\" ,\"OPN4\" ,\"OPN5\" ,\"OPN6\" ,\"OPN7\" ,\"OPN8\" ,\"OPN9\" ,\"OPN10\"\n",
    "           ]\n",
    "\n",
    "dropList = []\n",
    "\n",
    "for each_feature in df.columns:\n",
    "\n",
    "    if (each_feature not in features) and (each_feature != \"country\"):\n",
    "            dropList.append(each_feature)\n",
    "\n",
    "df.drop(dropList,axis=1,inplace=True)"
   ]
  },
  {
   "cell_type": "code",
   "execution_count": 20,
   "id": "tired-deposit",
   "metadata": {},
   "outputs": [
    {
     "data": {
      "text/plain": [
       "1012050"
      ]
     },
     "execution_count": 20,
     "metadata": {},
     "output_type": "execute_result"
    }
   ],
   "source": [
    "df.shape[0]"
   ]
  },
  {
   "cell_type": "code",
   "execution_count": 26,
   "id": "experienced-bargain",
   "metadata": {},
   "outputs": [
    {
     "data": {
      "text/plain": [
       "'(EXT1 < 0.0) or (EXT2 < 0.0) or (EXT3 < 0.0) or (EXT4 < 0.0) or (EXT5 < 0.0) or (EXT6 < 0.0) or (EXT7 < 0.0) or (EXT8 < 0.0) or (EXT9 < 0.0) or (EXT10 < 0.0) or (EST1 < 0.0) or (EST2 < 0.0) or (EST3 < 0.0) or (EST4 < 0.0) or (EST5 < 0.0) or (EST6 < 0.0) or (EST7 < 0.0) or (EST8 < 0.0) or (EST9 < 0.0) or (EST10 < 0.0) or (AGR1 < 0.0) or (AGR2 < 0.0) or (AGR3 < 0.0) or (AGR4 < 0.0) or (AGR5 < 0.0) or (AGR6 < 0.0) or (AGR7 < 0.0) or (AGR8 < 0.0) or (AGR9 < 0.0) or (AGR10 < 0.0) or (CSN1 < 0.0) or (CSN2 < 0.0) or (CSN3 < 0.0) or (CSN4 < 0.0) or (CSN5 < 0.0) or (CSN6 < 0.0) or (CSN7 < 0.0) or (CSN8 < 0.0) or (CSN9 < 0.0) or (CSN10 < 0.0) or (OPN1 < 0.0) or (OPN2 < 0.0) or (OPN3 < 0.0) or (OPN4 < 0.0) or (OPN5 < 0.0) or (OPN6 < 0.0) or (OPN7 < 0.0) or (OPN8 < 0.0) or (OPN9 < 0.0) or (OPN10 < 0.0)'"
      ]
     },
     "execution_count": 26,
     "metadata": {},
     "output_type": "execute_result"
    }
   ],
   "source": [
    "expr = ' or '.join('(%s < 0.0)' % col for col in features)\n",
    "expr"
   ]
  },
  {
   "cell_type": "code",
   "execution_count": 22,
   "id": "divine-field",
   "metadata": {},
   "outputs": [],
   "source": [
    "df_0 = df.drop(df[(df['x']<0.01) | (df['x']>10)].index)"
   ]
  },
  {
   "cell_type": "code",
   "execution_count": 25,
   "id": "invisible-transfer",
   "metadata": {},
   "outputs": [
    {
     "ename": "AttributeError",
     "evalue": "'DataFrame' object has no attribute 'show'",
     "output_type": "error",
     "traceback": [
      "\u001b[0;31m---------------------------------------------------------------------------\u001b[0m",
      "\u001b[0;31mAttributeError\u001b[0m                            Traceback (most recent call last)",
      "\u001b[0;32m<ipython-input-25-e0d09d83bf49>\u001b[0m in \u001b[0;36m<module>\u001b[0;34m\u001b[0m\n\u001b[0;32m----> 1\u001b[0;31m \u001b[0mdf_0\u001b[0m\u001b[0;34m.\u001b[0m\u001b[0mshow\u001b[0m\u001b[0;34m(\u001b[0m\u001b[0;34m)\u001b[0m\u001b[0;34m\u001b[0m\u001b[0;34m\u001b[0m\u001b[0m\n\u001b[0m",
      "\u001b[0;32m~/.local/lib/python3.8/site-packages/pandas/core/generic.py\u001b[0m in \u001b[0;36m__getattr__\u001b[0;34m(self, name)\u001b[0m\n\u001b[1;32m   5460\u001b[0m             \u001b[0;32mif\u001b[0m \u001b[0mself\u001b[0m\u001b[0;34m.\u001b[0m\u001b[0m_info_axis\u001b[0m\u001b[0;34m.\u001b[0m\u001b[0m_can_hold_identifiers_and_holds_name\u001b[0m\u001b[0;34m(\u001b[0m\u001b[0mname\u001b[0m\u001b[0;34m)\u001b[0m\u001b[0;34m:\u001b[0m\u001b[0;34m\u001b[0m\u001b[0;34m\u001b[0m\u001b[0m\n\u001b[1;32m   5461\u001b[0m                 \u001b[0;32mreturn\u001b[0m \u001b[0mself\u001b[0m\u001b[0;34m[\u001b[0m\u001b[0mname\u001b[0m\u001b[0;34m]\u001b[0m\u001b[0;34m\u001b[0m\u001b[0;34m\u001b[0m\u001b[0m\n\u001b[0;32m-> 5462\u001b[0;31m             \u001b[0;32mreturn\u001b[0m \u001b[0mobject\u001b[0m\u001b[0;34m.\u001b[0m\u001b[0m__getattribute__\u001b[0m\u001b[0;34m(\u001b[0m\u001b[0mself\u001b[0m\u001b[0;34m,\u001b[0m \u001b[0mname\u001b[0m\u001b[0;34m)\u001b[0m\u001b[0;34m\u001b[0m\u001b[0;34m\u001b[0m\u001b[0m\n\u001b[0m\u001b[1;32m   5463\u001b[0m \u001b[0;34m\u001b[0m\u001b[0m\n\u001b[1;32m   5464\u001b[0m     \u001b[0;32mdef\u001b[0m \u001b[0m__setattr__\u001b[0m\u001b[0;34m(\u001b[0m\u001b[0mself\u001b[0m\u001b[0;34m,\u001b[0m \u001b[0mname\u001b[0m\u001b[0;34m:\u001b[0m \u001b[0mstr\u001b[0m\u001b[0;34m,\u001b[0m \u001b[0mvalue\u001b[0m\u001b[0;34m)\u001b[0m \u001b[0;34m->\u001b[0m \u001b[0;32mNone\u001b[0m\u001b[0;34m:\u001b[0m\u001b[0;34m\u001b[0m\u001b[0;34m\u001b[0m\u001b[0m\n",
      "\u001b[0;31mAttributeError\u001b[0m: 'DataFrame' object has no attribute 'show'"
     ]
    }
   ],
   "source": [
    "df_0.show()"
   ]
  },
  {
   "cell_type": "code",
   "execution_count": 7,
   "id": "scheduled-audit",
   "metadata": {},
   "outputs": [],
   "source": [
    "df.to_csv('data_processed.csv', index=False)"
   ]
  },
  {
   "cell_type": "code",
   "execution_count": 8,
   "id": "published-software",
   "metadata": {},
   "outputs": [],
   "source": [
    "data =pd.read_csv('data_processed.csv')"
   ]
  },
  {
   "cell_type": "code",
   "execution_count": 10,
   "id": "crude-comfort",
   "metadata": {},
   "outputs": [
    {
     "data": {
      "text/plain": [
       "1012050"
      ]
     },
     "execution_count": 10,
     "metadata": {},
     "output_type": "execute_result"
    }
   ],
   "source": [
    "data.shape[0]"
   ]
  },
  {
   "cell_type": "code",
   "execution_count": null,
   "id": "spoken-democrat",
   "metadata": {},
   "outputs": [],
   "source": [
    "data."
   ]
  }
 ],
 "metadata": {
  "kernelspec": {
   "display_name": "Python 3",
   "language": "python",
   "name": "python3"
  },
  "language_info": {
   "codemirror_mode": {
    "name": "ipython",
    "version": 3
   },
   "file_extension": ".py",
   "mimetype": "text/x-python",
   "name": "python",
   "nbconvert_exporter": "python",
   "pygments_lexer": "ipython3",
   "version": "3.8.5"
  }
 },
 "nbformat": 4,
 "nbformat_minor": 5
}
